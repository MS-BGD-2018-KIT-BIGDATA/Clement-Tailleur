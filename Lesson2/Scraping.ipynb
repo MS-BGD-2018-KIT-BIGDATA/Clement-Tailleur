{
 "cells": [
  {
   "cell_type": "code",
   "execution_count": 65,
   "metadata": {},
   "outputs": [
    {
     "data": {
      "text/plain": [
       "['PSG',\n",
       " 'Monaco',\n",
       " 'SaintEtienne',\n",
       " 'Bordeaux',\n",
       " 'Lyon',\n",
       " 'Marseille',\n",
       " 'Nantes',\n",
       " 'Nice',\n",
       " 'Caen',\n",
       " 'Guingamp',\n",
       " 'Angers',\n",
       " 'Montpellier',\n",
       " 'Toulouse',\n",
       " 'Amiens',\n",
       " 'Rennes',\n",
       " 'Troyes',\n",
       " 'Lille',\n",
       " 'Dijon',\n",
       " 'Strasbourg',\n",
       " 'Metz']"
      ]
     },
     "execution_count": 65,
     "metadata": {},
     "output_type": "execute_result"
    }
   ],
   "source": [
    "from urllib.request import urlopen\n",
    "from dateutil.parser import parse\n",
    "from pprint import pprint\n",
    "import pandas as pd\n",
    "import lxml.html\n",
    "import sys\n",
    "\n",
    "URL = \"http://www.sports.fr/football/ligue-1/classement.html\"\n",
    "page = urlopen(URL).read()\n",
    "html = lxml.html.fromstring(page)\n",
    "scraping = html.xpath(\"//tbody[@class='tc']/tr\") \n",
    "\n",
    "data_list = [sc.text_content() for sc in scraping]\n",
    "dates_list_cleaned = [re.sub(r'[0-9]', '', dl).strip() for dl in data_list]\n",
    "dates_list_cleaned = [dlc.replace('\\t','').replace('\\n','').replace(' ','').replace('.','').replace('-','').strip() for dlc in dates_list_cleaned]\n",
    "dates_list_cleaned"
   ]
  },
  {
   "cell_type": "code",
   "execution_count": 59,
   "metadata": {},
   "outputs": [
    {
     "name": "stdout",
     "output_type": "stream",
     "text": [
      ". Metz-\n"
     ]
    }
   ],
   "source": [
    "import re\n",
    "print(re.sub(r'[0-9]', '', \"20. Metz36105312-903003293310213\"[2:]).strip())"
   ]
  },
  {
   "cell_type": "code",
   "execution_count": 58,
   "metadata": {},
   "outputs": [
    {
     "data": {
      "text/plain": [
       "'. Metz36105312-903003293310213'"
      ]
     },
     "execution_count": 58,
     "metadata": {},
     "output_type": "execute_result"
    }
   ],
   "source": [
    "\"20. Metz36105312-903003293310213\"[2:]"
   ]
  },
  {
   "cell_type": "code",
   "execution_count": 24,
   "metadata": {},
   "outputs": [],
   "source": [
    "from bs4 import BeautifulSoup\n",
    "import requests\n",
    "\n",
    "r = requests.get('http://www.eurosport.fr/football/ligue-1/calendar-result.shtml')\n",
    "soup = BeautifulSoup(r.text, 'html.parser')"
   ]
  },
  {
   "cell_type": "code",
   "execution_count": 25,
   "metadata": {},
   "outputs": [
    {
     "data": {
      "text/plain": [
       "<title>Calendrier et résultats Ligue 1 2017-2018 - Football - Eurosport</title>"
      ]
     },
     "execution_count": 25,
     "metadata": {},
     "output_type": "execute_result"
    }
   ],
   "source": [
    "soup.title"
   ]
  },
  {
   "cell_type": "code",
   "execution_count": 33,
   "metadata": {},
   "outputs": [
    {
     "ename": "SyntaxError",
     "evalue": "invalid syntax (<ipython-input-33-7e762a07f0c5>, line 1)",
     "output_type": "error",
     "traceback": [
      "\u001b[0;36m  File \u001b[0;32m\"<ipython-input-33-7e762a07f0c5>\"\u001b[0;36m, line \u001b[0;32m1\u001b[0m\n\u001b[0;31m    soup.findAll('span', class=\"team__label\")\u001b[0m\n\u001b[0m                             ^\u001b[0m\n\u001b[0;31mSyntaxError\u001b[0m\u001b[0;31m:\u001b[0m invalid syntax\n"
     ]
    }
   ],
   "source": [
    "soup.findAll('span', class=\"team__label\")"
   ]
  },
  {
   "cell_type": "code",
   "execution_count": null,
   "metadata": {},
   "outputs": [],
   "source": []
  }
 ],
 "metadata": {
  "kernelspec": {
   "display_name": "Py3_KitDataScience",
   "language": "python",
   "name": "py3_kitdatascience"
  },
  "language_info": {
   "codemirror_mode": {
    "name": "ipython",
    "version": 3
   },
   "file_extension": ".py",
   "mimetype": "text/x-python",
   "name": "python",
   "nbconvert_exporter": "python",
   "pygments_lexer": "ipython3",
   "version": "3.6.2"
  },
  "toc": {
   "nav_menu": {},
   "number_sections": true,
   "sideBar": true,
   "skip_h1_title": false,
   "toc_cell": false,
   "toc_position": {},
   "toc_section_display": "block",
   "toc_window_display": false
  }
 },
 "nbformat": 4,
 "nbformat_minor": 2
}

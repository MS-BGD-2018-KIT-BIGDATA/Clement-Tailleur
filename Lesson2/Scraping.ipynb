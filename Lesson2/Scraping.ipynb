{
 "cells": [
  {
   "cell_type": "code",
   "execution_count": 33,
   "metadata": {},
   "outputs": [
    {
     "name": "stdout",
     "output_type": "stream",
     "text": [
      "      A_2010     B_2010     C_2010     D_2010\n",
      "0  5 425 200  4 964 789  2 479 145  2 801 912\n",
      "1      2 449      2 241      1 119      1 265\n",
      "2      2 449      2 241      1 119      1 265\n",
      "\n",
      "      A_2011     B_2011     C_2011     D_2011\n",
      "0  5 686 279  5 197 859  2 822 569  2 832 512\n",
      "1      2 546      2 327      1 264      1 268\n",
      "2      2 546      2 327      1 264      1 268\n",
      "\n",
      "      A_2012     B_2012     C_2012     D_2012\n",
      "0  5 218 325  4 820 358  2 450 566  2 389 281\n",
      "1      2 311      2 135      1 085      1 058\n",
      "2      2 311      2 135      1 085      1 058\n",
      "\n",
      "      A_2013     B_2013     C_2013     D_2013\n",
      "0  5 234 622  5 070 274  2 624 710  2 376 591\n",
      "1      2 308      2 235      1 157      1 048\n",
      "2      2 308      2 235      1 157      1 048\n",
      "\n",
      "      A_2014     B_2014     C_2014     D_2014\n",
      "0  5 379 714  5 217 973  2 426 137  2 385 070\n",
      "1      2 365      2 294      1 066      1 048\n",
      "2      2 365      2 294      1 066      1 048\n",
      "\n",
      "      A_2015     B_2015     C_2015     D_2015\n",
      "0  5 261 995  5 333 785  2 071 831  1 784 950\n",
      "1      2 322      2 354        914        788\n",
      "2      2 322      2 354        914        788\n",
      "\n",
      "\n",
      "Data frame function 1 equals Data frame function 2 in 2010:\n",
      "True\n",
      "Data frame function 1 equals Data frame function 2 in 2011:\n",
      "True\n",
      "Data frame function 1 equals Data frame function 2 in 2012:\n",
      "True\n",
      "Data frame function 1 equals Data frame function 2 in 2013:\n",
      "True\n",
      "Data frame function 1 equals Data frame function 2 in 2014:\n",
      "True\n",
      "Data frame function 1 equals Data frame function 2 in 2015:\n",
      "True\n"
     ]
    }
   ],
   "source": [
    "from urllib.request import urlopen\n",
    "from bs4 import BeautifulSoup\n",
    "import pandas as pd\n",
    "import lxml.html\n",
    "import requests\n",
    "import sys\n",
    "\n",
    "def french_finance_scraper_1(year):\n",
    "    year = str(year)\n",
    "    URL = \"http://alize2.finances.gouv.fr/communes/eneuro/detail.php?icom=056&dep=075&type=BPS&param=5&exercice=\" + year\n",
    "    page = urlopen(URL).read()\n",
    "    html = lxml.html.fromstring(page)\n",
    "    scraping = html.xpath(\"//td[@class='montantpetit G']\") \n",
    "\n",
    "    data_list = [sc.text_content() for sc in scraping]\n",
    "    data_list = data_list[:6] + data_list[9:15]\n",
    "    dates_list_cleaned = [dlc.replace('\\xa0','').strip() for dlc in data_list]\n",
    "\n",
    "    data = {}\n",
    "    i=0\n",
    "    for c in ['A_' + year, 'B_' + year, 'C_' + year, 'D_' + year]:\n",
    "        data[c] = dates_list_cleaned[i:i+3]\n",
    "        i += 3\n",
    "    \n",
    "    return pd.DataFrame(data)\n",
    "\n",
    "\n",
    "def french_finance_scraper_2(year):\n",
    "    year = str(year)\n",
    "    URL = \"http://alize2.finances.gouv.fr/communes/eneuro/detail.php?icom=056&dep=075&type=BPS&param=5&exercice=\" + year\n",
    "    r = requests.get(URL)\n",
    "    soup = BeautifulSoup(r.text, 'html.parser')\n",
    "    scraping = soup.find_all('td',attrs={\"class\": u\"montantpetit G\"})\n",
    "    \n",
    "    data_list = []\n",
    "    for dl in scraping:\n",
    "        data_list.append(dl.text.replace('\\xa0','').strip())\n",
    "    dates_list_cleaned = data_list[:6] + data_list[9:15]\n",
    "    \n",
    "    data = {}\n",
    "    i=0\n",
    "    for c in ['A_' + year, 'B_' + year, 'C_' + year, 'D_' + year]:\n",
    "        data[c] = dates_list_cleaned[i:i+3]\n",
    "        i += 3\n",
    "    \n",
    "    return pd.DataFrame(data)\n",
    "\n",
    "\n",
    "for year_studied in range(2010, 2016):\n",
    "    print(french_finance_scraper_1(year_studied))\n",
    "    print()\n",
    "\n",
    "print()    \n",
    "for year_studied in range(2010, 2016):\n",
    "    print(\"Data frame function 1 equals Data frame function 2 in %d:\" % year_studied)\n",
    "    print(french_finance_scraper_1(year_studied).equals(french_finance_scraper_2(year_studied)))"
   ]
  },
  {
   "cell_type": "code",
   "execution_count": 18,
   "metadata": {},
   "outputs": [
    {
     "data": {
      "text/plain": [
       "'2 449\\xa0'"
      ]
     },
     "execution_count": 18,
     "metadata": {},
     "output_type": "execute_result"
    }
   ],
   "source": [
    "th_all[1].text"
   ]
  },
  {
   "cell_type": "code",
   "execution_count": null,
   "metadata": {},
   "outputs": [],
   "source": []
  }
 ],
 "metadata": {
  "kernelspec": {
   "display_name": "Py3_KitDataScience",
   "language": "python",
   "name": "py3_kitdatascience"
  },
  "language_info": {
   "codemirror_mode": {
    "name": "ipython",
    "version": 3
   },
   "file_extension": ".py",
   "mimetype": "text/x-python",
   "name": "python",
   "nbconvert_exporter": "python",
   "pygments_lexer": "ipython3",
   "version": "3.6.2"
  },
  "toc": {
   "nav_menu": {},
   "number_sections": true,
   "sideBar": true,
   "skip_h1_title": false,
   "toc_cell": false,
   "toc_position": {},
   "toc_section_display": "block",
   "toc_window_display": false
  }
 },
 "nbformat": 4,
 "nbformat_minor": 2
}

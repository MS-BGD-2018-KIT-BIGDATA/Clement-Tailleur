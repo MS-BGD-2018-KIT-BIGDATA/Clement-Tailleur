{
 "cells": [
  {
   "cell_type": "markdown",
   "metadata": {},
   "source": [
    "<font size=5><center> TP_2 </center></font>\n",
    "<br>\n",
    "<font size=4><center><i>Introduction à Python et modèle linéaire</i></center></font>"
   ]
  },
  {
   "cell_type": "markdown",
   "metadata": {
    "toc": "true"
   },
   "source": [
    " # Table of Contents\n",
    "<div class=\"toc\" style=\"margin-top: 1em;\"><ul class=\"toc-item\" id=\"toc-level0\"><li><span><a href=\"http://localhost:8888/notebooks/TP_2.ipynb#Exercice-1\" data-toc-modified-id=\"Exercice-1-1\"><span class=\"toc-item-num\">1&nbsp;&nbsp;</span><u>Exercice 1</u></a></span><ul class=\"toc-item\"><li><span><a href=\"http://localhost:8888/notebooks/TP_2.ipynb#Quetsion-1:-Récupérer-les-données\" data-toc-modified-id=\"Quetsion-1:-Récupérer-les-données-1.1\"><span class=\"toc-item-num\">1.1&nbsp;&nbsp;</span><u>Quetsion 1:</u> <i>Récupérer les données</i></a></span></li><li><span><a href=\"http://localhost:8888/notebooks/TP_2.ipynb#Question-2:-Trouver-les-valeurs-manquantes\" data-toc-modified-id=\"Question-2:-Trouver-les-valeurs-manquantes-1.2\"><span class=\"toc-item-num\">1.2&nbsp;&nbsp;</span><u>Question 2:</u> <i>Trouver les valeurs manquantes</i></a></span></li><li><span><a href=\"http://localhost:8888/notebooks/TP_2.ipynb#Question-3:-Estimateur-de-la-densité-des-pères-et-des-mères\" data-toc-modified-id=\"Question-3:-Estimateur-de-la-densité-des-pères-et-des-mères-1.3\"><span class=\"toc-item-num\">1.3&nbsp;&nbsp;</span><u>Question 3:</u> <i>Estimateur de la densité des pères et des mères</i></a></span></li><li><span><a href=\"http://localhost:8888/notebooks/TP_2.ipynb#Question-4:-Afficher-la-tailler-du-père-en-fonction-de-la-taille-de-la-mère\" data-toc-modified-id=\"Question-4:-Afficher-la-tailler-du-père-en-fonction-de-la-taille-de-la-mère-1.4\"><span class=\"toc-item-num\">1.4&nbsp;&nbsp;</span><u>Question 4:</u> <i>Afficher la tailler du père en fonction de la taille de la mère</i></a></span></li><li><span><a href=\"http://localhost:8888/notebooks/TP_2.ipynb#Question-5:-Afficher-un-histogramme-du-nombre-d'enfants-par-famille\" data-toc-modified-id=\"Question-5:-Afficher-un-histogramme-du-nombre-d'enfants-par-famille-1.5\"><span class=\"toc-item-num\">1.5&nbsp;&nbsp;</span><u>Question 5:</u> <i>Afficher un histogramme du nombre d'enfants par famille</i></a></span></li><li><span><a href=\"http://localhost:8888/notebooks/TP_2.ipynb#Question-6:-Taille-du-parent-moyen\" data-toc-modified-id=\"Question-6:-Taille-du-parent-moyen-1.6\"><span class=\"toc-item-num\">1.6&nbsp;&nbsp;</span><u>Question 6:</u> <i>Taille du parent moyen</i></a></span></li><li><span><a href=\"http://localhost:8888/notebooks/TP_2.ipynb#Question-7:-Estimation-des-Θ\" data-toc-modified-id=\"Question-7:-Estimation-des-Θ-1.7\"><span class=\"toc-item-num\">1.7&nbsp;&nbsp;</span><u>Question 7:</u> <i>Estimation des Θ</i></a></span></li><li><span><a href=\"http://localhost:8888/notebooks/TP_2.ipynb#Question-8:-Calculer-et-visualiser-les-valeurs-prédites-sur-un-même-graphique\" data-toc-modified-id=\"Question-8:-Calculer-et-visualiser-les-valeurs-prédites-sur-un-même-graphique-1.8\"><span class=\"toc-item-num\">1.8&nbsp;&nbsp;</span><u>Question 8:</u> <i>Calculer et visualiser les valeurs prédites sur un même graphique</i></a></span></li><li><span><a href=\"http://localhost:8888/notebooks/TP_2.ipynb#Question-9:-Visualiser-un-estimateur-de-densité-des-résidus\" data-toc-modified-id=\"Question-9:-Visualiser-un-estimateur-de-densité-des-résidus-1.9\"><span class=\"toc-item-num\">1.9&nbsp;&nbsp;</span><u>Question 9:</u> <i>Visualiser un estimateur de densité des résidus</i></a></span></li><li><span><a href=\"http://localhost:8888/notebooks/TP_2.ipynb#Question-10:-Régresser-cette-fois-les-xi-sur-les-yi\" data-toc-modified-id=\"Question-10:-Régresser-cette-fois-les-xi-sur-les-yi-1.10\"><span class=\"toc-item-num\">1.10&nbsp;&nbsp;</span><u>Question 10:</u> <i>Régresser cette fois les xi sur les yi</i></a></span></li></ul></li><li><span><a href=\"http://localhost:8888/notebooks/TP_2.ipynb#Exercice-2\" data-toc-modified-id=\"Exercice-2-2\"><span class=\"toc-item-num\">2&nbsp;&nbsp;</span>Exercice 2</a></span><ul class=\"toc-item\"><li><span><a href=\"http://localhost:8888/notebooks/TP_2.ipynb#Question-11:-Importer-les-données-des-voitures\" data-toc-modified-id=\"Question-11:-Importer-les-données-des-voitures-2.1\"><span class=\"toc-item-num\">2.1&nbsp;&nbsp;</span><u>Question 11:</u> <i>Importer les données des voitures</i></a></span></li><li><span><a href=\"http://localhost:8888/notebooks/TP_2.ipynb#Question-12:-Calculer-l'estimateur-des-moindres-carrés-Θ-et-la-prédiction-de-y-sur-les-9-premières-données\" data-toc-modified-id=\"Question-12:-Calculer-l'estimateur-des-moindres-carrés-Θ-et-la-prédiction-de-y-sur-les-9-premières-données-2.2\"><span class=\"toc-item-num\">2.2&nbsp;&nbsp;</span><u>Question 12:</u> <i>Calculer l'estimateur des moindres carrés Θ et la prédiction de y sur les 9 premières données</i></a></span></li><li><span><a href=\"http://localhost:8888/notebooks/TP_2.ipynb#Question-13:-Calculer-l'estimateur-des-moindres-carrés-Θ-et-la-prédiction-de-y-sur-toutes-les-données\" data-toc-modified-id=\"Question-13:-Calculer-l'estimateur-des-moindres-carrés-Θ-et-la-prédiction-de-y-sur-toutes-les-données-2.3\"><span class=\"toc-item-num\">2.3&nbsp;&nbsp;</span><u>Question 13:</u> <i>Calculer l'estimateur des moindres carrés Θ et la prédiction de y sur toutes les données</i></a></span></li><li><span><a href=\"http://localhost:8888/notebooks/TP_2.ipynb#Question-14:-Calculer-la-valeur-du-résidu-au-carré\" data-toc-modified-id=\"Question-14:-Calculer-la-valeur-du-résidu-au-carré-2.4\"><span class=\"toc-item-num\">2.4&nbsp;&nbsp;</span><u>Question 14:</u> <i>Calculer la valeur du résidu au carré</i></a></span></li><li><span><a href=\"http://localhost:8888/notebooks/TP_2.ipynb#Question-15:-Prédire-la-consommation\" data-toc-modified-id=\"Question-15:-Prédire-la-consommation-2.5\"><span class=\"toc-item-num\">2.5&nbsp;&nbsp;</span><u>Question 15:</u> <i>Prédire la consommation</i></a></span></li><li><span><a href=\"http://localhost:8888/notebooks/TP_2.ipynb#Question-16:-Variables-les-plus-explicatives-via-PolynomialFeatures\" data-toc-modified-id=\"Question-16:-Variables-les-plus-explicatives-via-PolynomialFeatures-2.6\"><span class=\"toc-item-num\">2.6&nbsp;&nbsp;</span><u>Question 16:</u> <i>Variables les plus explicatives via PolynomialFeatures</i></a></span></li><li><span><a href=\"http://localhost:8888/notebooks/TP_2.ipynb#Question-17:-Gérer-la-variable-'origin'\" data-toc-modified-id=\"Question-17:-Gérer-la-variable-'origin'-2.7\"><span class=\"toc-item-num\">2.7&nbsp;&nbsp;</span><u>Question 17:</u> <i>Gérer la variable 'origin'</i></a></span></li><li><span><a href=\"http://localhost:8888/notebooks/TP_2.ipynb#Question-18:-La-variable-'marque'-!\" data-toc-modified-id=\"Question-18:-La-variable-'marque'-!-2.8\"><span class=\"toc-item-num\">2.8&nbsp;&nbsp;</span><u>Question 18:</u> <i>La variable 'marque' !</i></a></span></li><li><span><a href=\"http://localhost:8888/notebooks/TP_2.ipynb#Question-19:-Un-peu-de-SVD\" data-toc-modified-id=\"Question-19:-Un-peu-de-SVD-2.9\"><span class=\"toc-item-num\">2.9&nbsp;&nbsp;</span><u>Question 19:</u> <i>Un peu de SVD</i></a></span></li><li><span><a href=\"http://localhost:8888/notebooks/TP_2.ipynb#Question-20:-Vecteur-des-leviers\" data-toc-modified-id=\"Question-20:-Vecteur-des-leviers-2.10\"><span class=\"toc-item-num\">2.10&nbsp;&nbsp;</span><u>Question 20:</u> <i>Vecteur des leviers</i></a></span></li></ul></li></ul></div>"
   ]
  },
  {
   "cell_type": "code",
   "execution_count": 1,
   "metadata": {},
   "outputs": [],
   "source": [
    "from statsmodels.nonparametric.kde import KDEUnivariate\n",
    "from sklearn.preprocessing import PolynomialFeatures\n",
    "from sklearn import datasets, linear_model\n",
    "from sklearn.preprocessing import scale\n",
    "import matplotlib.pyplot as plt\n",
    "import plotly.graph_objs as go\n",
    "from numpy.linalg import inv\n",
    "import plotly.plotly as py\n",
    "import pandas as pd\n",
    "import numpy as np\n",
    "import warnings\n",
    "import seaborn\n",
    "%matplotlib inline"
   ]
  },
  {
   "cell_type": "markdown",
   "metadata": {},
   "source": [
    "# <u>Exercice 1</u>\n",
    "## <u>Quetsion 1:</u> <i>Récupérer les données</i>"
   ]
  },
  {
   "cell_type": "code",
   "execution_count": 2,
   "metadata": {},
   "outputs": [],
   "source": [
    "color_mother = '#ff9933'\n",
    "color_father = '#1a1aff'\n",
    "color_child = '#ff6666'\n",
    "color_girl = '#ff66ff'\n",
    "color_girl_predict = '#ffccff'\n",
    "color_boy = '#2eb82e'\n",
    "color_boy_predict = '#d6f5d6'"
   ]
  },
  {
   "cell_type": "markdown",
   "metadata": {},
   "source": [
    "<font color='#ff9933'>color_mother</font><br>\n",
    "<font color='#1a1aff'>color_father</font><br>\n",
    "<font color='#ff6666'>color_child</font><br>\n",
    "<font color='#ff66ff'>color_girl</font><br>\n",
    "<font color='#ffccff'>color_girl_predicted</font><br>\n",
    "<font color='#2eb82e'>color_boy</font><br>\n",
    "<font color='##d6f5d6'>color_boy_predicted</font>"
   ]
  },
  {
   "cell_type": "code",
   "execution_count": 3,
   "metadata": {},
   "outputs": [
    {
     "data": {
      "text/html": [
       "<div>\n",
       "<table border=\"1\" class=\"dataframe\">\n",
       "  <thead>\n",
       "    <tr style=\"text-align: right;\">\n",
       "      <th></th>\n",
       "      <th>Family</th>\n",
       "      <th>Father</th>\n",
       "      <th>Mother</th>\n",
       "      <th>Gender</th>\n",
       "      <th>Height</th>\n",
       "      <th>Kids</th>\n",
       "    </tr>\n",
       "  </thead>\n",
       "  <tbody>\n",
       "    <tr>\n",
       "      <th>0</th>\n",
       "      <td>1</td>\n",
       "      <td>199.0</td>\n",
       "      <td>170.0</td>\n",
       "      <td>M</td>\n",
       "      <td>186.0</td>\n",
       "      <td>4</td>\n",
       "    </tr>\n",
       "    <tr>\n",
       "      <th>1</th>\n",
       "      <td>1</td>\n",
       "      <td>199.0</td>\n",
       "      <td>170.0</td>\n",
       "      <td>F</td>\n",
       "      <td>176.0</td>\n",
       "      <td>4</td>\n",
       "    </tr>\n",
       "    <tr>\n",
       "      <th>2</th>\n",
       "      <td>1</td>\n",
       "      <td>199.0</td>\n",
       "      <td>170.0</td>\n",
       "      <td>F</td>\n",
       "      <td>175.0</td>\n",
       "      <td>4</td>\n",
       "    </tr>\n",
       "    <tr>\n",
       "      <th>3</th>\n",
       "      <td>1</td>\n",
       "      <td>199.0</td>\n",
       "      <td>170.0</td>\n",
       "      <td>F</td>\n",
       "      <td>175.0</td>\n",
       "      <td>4</td>\n",
       "    </tr>\n",
       "    <tr>\n",
       "      <th>4</th>\n",
       "      <td>2</td>\n",
       "      <td>192.0</td>\n",
       "      <td>169.0</td>\n",
       "      <td>M</td>\n",
       "      <td>187.0</td>\n",
       "      <td>4</td>\n",
       "    </tr>\n",
       "  </tbody>\n",
       "</table>\n",
       "</div>"
      ],
      "text/plain": [
       "  Family  Father  Mother Gender  Height  Kids\n",
       "0      1   199.0   170.0      M   186.0     4\n",
       "1      1   199.0   170.0      F   176.0     4\n",
       "2      1   199.0   170.0      F   175.0     4\n",
       "3      1   199.0   170.0      F   175.0     4\n",
       "4      2   192.0   169.0      M   187.0     4"
      ]
     },
     "execution_count": 3,
     "metadata": {},
     "output_type": "execute_result"
    }
   ],
   "source": [
    "# #\n",
    "\n",
    "df_sizes = pd.read_csv(\"http://josephsalmon.eu/enseignement/TELECOM/MDI720/datasets/Galton.txt\", sep='\\t')\n",
    "df_sizes.Height = round(df_sizes.Height*2.54) # inch aux cm => *2.54\n",
    "df_sizes.Father = round(df_sizes.Father*2.54)\n",
    "df_sizes.Mother = round(df_sizes.Mother*2.54)\n",
    "df_sizes.head()"
   ]
  },
  {
   "cell_type": "markdown",
   "metadata": {},
   "source": [
    "## <u>Question 2:</u> <i>Trouver les valeurs manquantes</i>"
   ]
  },
  {
   "cell_type": "code",
   "execution_count": 4,
   "metadata": {},
   "outputs": [
    {
     "name": "stdout",
     "output_type": "stream",
     "text": [
      "Number of rows with NA: 0\n"
     ]
    }
   ],
   "source": [
    "# Vérification de la présence de valeurs manquantes #\n",
    "print(\"Number of rows with NA:\", \n",
    "      sum(df_sizes.isnull().values.ravel()))"
   ]
  },
  {
   "cell_type": "markdown",
   "metadata": {},
   "source": [
    "## <u>Question 3:</u> <i>Estimateur de la densité des pères et des mères</i>"
   ]
  },
  {
   "cell_type": "code",
   "execution_count": 5,
   "metadata": {},
   "outputs": [
    {
     "data": {
      "image/png": "[encoded data removed]",
      "text/plain": [
       "<matplotlib.figure.Figure at 0x10d15d320>"
      ]
     },
     "metadata": {},
     "output_type": "display_data"
    }
   ],
   "source": [
    "kde_mother = KDEUnivariate(df_sizes.sort_values(by=\"Mother\")[\"Mother\"].tolist())\n",
    "kde_mother.fit(bw=1, kernel='gau')\n",
    "xrange_lim_mother = range(int(min(df_sizes.Mother)), int(max(df_sizes.Mother)))\n",
    "x_grid_mother = np.linspace(xrange_lim_mother[0], xrange_lim_mother[-1], 100)\n",
    "kde_eval_mother = kde_mother.evaluate(x_grid_mother)\n",
    "\n",
    "kde_father = KDEUnivariate(df_sizes.sort_values(by=\"Father\")[\"Father\"].tolist())\n",
    "kde_father.fit(bw=1, kernel='gau')\n",
    "xrange_lim_father = range(int(min(df_sizes.Father)), int(max(df_sizes.Father)))\n",
    "x_grid_father = np.linspace(xrange_lim_father[0], xrange_lim_father[-1], 100)\n",
    "kde_eval_father = kde_father.evaluate(x_grid_father)\n",
    "\n",
    "plt.style.use('seaborn-whitegrid')\n",
    "fig = plt.figure(figsize=(8, 6))\n",
    "plt.plot(x_grid_mother, kde_eval_mother, color=color_mother)\n",
    "plt.plot(x_grid_father, kde_eval_father, color=color_father)\n",
    "plt.fill_between(x_grid_mother, 0., kde_eval_mother, alpha=0.8, facecolor=color_mother)\n",
    "plt.fill_between(x_grid_father, 0., kde_eval_father, facecolor=\"none\", hatch=\"X\", edgecolor=color_father)\n",
    "plt.title(r'Densité de tailles des mères et des pères', fontsize=16)\n",
    "plt.ylabel(r'$Fréquence$', fontsize=18)\n",
    "plt.xlabel(r'$size$', fontsize=18)\n",
    "plt.legend([\"Mother\", \"Father\"])\n",
    "plt.show()"
   ]
  },
  {
   "cell_type": "markdown",
   "metadata": {},
   "source": [
    "## <u>Question 4:</u> <i>Afficher la tailler du père en fonction de la taille de la mère</i>"
   ]
  },
  {
   "cell_type": "code",
   "execution_count": 6,
   "metadata": {},
   "outputs": [
    {
     "data": {
      "image/png": "[encoded data removed]",
      "text/plain": [
       "<matplotlib.figure.Figure at 0x10d15d0f0>"
      ]
     },
     "metadata": {},
     "output_type": "display_data"
    }
   ],
   "source": [
    "warnings.filterwarnings(action=\"ignore\", module=\"scipy\", message=\"^internal gelsd\")\n",
    "\n",
    "X = df_sizes.Mother\n",
    "y = df_sizes.Father\n",
    "\n",
    "# Fit regression model without intercept (with sklearn)\n",
    "skl_linmod_inter = linear_model.LinearRegression(fit_intercept=True, normalize=False)\n",
    "skl_linmod_inter.fit(X.values.reshape(-1, 1), y)\n",
    "\n",
    "fig = plt.figure(figsize=(8, 6))\n",
    "plt.xlim(xmin=145, xmax=180)\n",
    "plt.ylim(ymin=145, ymax=210)\n",
    "plt.plot(X, y, 'o', label=\"Size-data\", markeredgecolor='k', markeredgewidth=1, color=\"#66ccff\")\n",
    "X_to_predict = np.linspace(140, 180, num=898).reshape(898, 1)\n",
    "plt.plot(X_to_predict, skl_linmod_inter.predict(X_to_predict),\n",
    "         linewidth=3, label=\"OLS-sklearn-with-intercept-normalized\", color=\"#d24dff\")\n",
    "\n",
    "plt.legend(numpoints=1, loc=2)\n",
    "xlabels = 'Taille des mères'\n",
    "ylabels = 'Taille des pères'\n",
    "plt.xlabel(xlabels), plt.ylabel(ylabels)\n",
    "plt.title('Taille des pères en fonction de la taille des mères', fontsize=16)\n",
    "plt.tight_layout()\n",
    "plt.show()"
   ]
  },
  {
   "cell_type": "markdown",
   "metadata": {},
   "source": [
    "## <u>Question 5:</u> <i>Afficher un histogramme du nombre d'enfants par famille</i>"
   ]
  },
  {
   "cell_type": "code",
   "execution_count": 7,
   "metadata": {},
   "outputs": [
    {
     "data": {
      "text/html": [
       "<div>\n",
       "<table border=\"1\" class=\"dataframe\">\n",
       "  <thead>\n",
       "    <tr style=\"text-align: right;\">\n",
       "      <th></th>\n",
       "      <th>Family</th>\n",
       "      <th>Father</th>\n",
       "      <th>Mother</th>\n",
       "      <th>Gender</th>\n",
       "      <th>Height</th>\n",
       "      <th>Kids</th>\n",
       "    </tr>\n",
       "  </thead>\n",
       "  <tbody>\n",
       "    <tr>\n",
       "      <th>0</th>\n",
       "      <td>1</td>\n",
       "      <td>199.0</td>\n",
       "      <td>170.0</td>\n",
       "      <td>M</td>\n",
       "      <td>186.0</td>\n",
       "      <td>4</td>\n",
       "    </tr>\n",
       "    <tr>\n",
       "      <th>4</th>\n",
       "      <td>2</td>\n",
       "      <td>192.0</td>\n",
       "      <td>169.0</td>\n",
       "      <td>M</td>\n",
       "      <td>187.0</td>\n",
       "      <td>4</td>\n",
       "    </tr>\n",
       "    <tr>\n",
       "      <th>8</th>\n",
       "      <td>3</td>\n",
       "      <td>190.0</td>\n",
       "      <td>163.0</td>\n",
       "      <td>M</td>\n",
       "      <td>180.0</td>\n",
       "      <td>2</td>\n",
       "    </tr>\n",
       "  </tbody>\n",
       "</table>\n",
       "</div>"
      ],
      "text/plain": [
       "  Family  Father  Mother Gender  Height  Kids\n",
       "0      1   199.0   170.0      M   186.0     4\n",
       "4      2   192.0   169.0      M   187.0     4\n",
       "8      3   190.0   163.0      M   180.0     2"
      ]
     },
     "execution_count": 7,
     "metadata": {},
     "output_type": "execute_result"
    }
   ],
   "source": [
    "df_unique_family = df_sizes.drop_duplicates(subset=\"Family\", keep='first').copy()\n",
    "df_unique_family.head(3)"
   ]
  },
  {
   "cell_type": "code",
   "execution_count": 8,
   "metadata": {},
   "outputs": [
    {
     "data": {
      "text/html": [
       "<div>\n",
       "<table border=\"1\" class=\"dataframe\">\n",
       "  <thead>\n",
       "    <tr style=\"text-align: right;\">\n",
       "      <th></th>\n",
       "      <th>Number_of_Family</th>\n",
       "    </tr>\n",
       "  </thead>\n",
       "  <tbody>\n",
       "    <tr>\n",
       "      <th>1</th>\n",
       "      <td>32</td>\n",
       "    </tr>\n",
       "    <tr>\n",
       "      <th>4</th>\n",
       "      <td>29</td>\n",
       "    </tr>\n",
       "    <tr>\n",
       "      <th>5</th>\n",
       "      <td>28</td>\n",
       "    </tr>\n",
       "  </tbody>\n",
       "</table>\n",
       "</div>"
      ],
      "text/plain": [
       "   Number_of_Family\n",
       "1                32\n",
       "4                29\n",
       "5                28"
      ]
     },
     "execution_count": 8,
     "metadata": {},
     "output_type": "execute_result"
    }
   ],
   "source": [
    "df_kids_number = df_unique_family.Kids.value_counts().to_frame()\n",
    "df_kids_number.columns = [\"Number_of_Family\"]\n",
    "df_kids_number.head(3)"
   ]
  },
  {
   "cell_type": "code",
   "execution_count": 9,
   "metadata": {},
   "outputs": [
    {
     "data": {
      "image/png": "[encoded data removed]",
      "text/plain": [
       "<matplotlib.figure.Figure at 0x10dbd5ef0>"
      ]
     },
     "metadata": {},
     "output_type": "display_data"
    }
   ],
   "source": [
    "mpl_fig = plt.figure(figsize=(13,6.5))\n",
    "ax = mpl_fig.add_subplot(111)\n",
    "ax.bar(df_kids_number.index,\n",
    "       height=df_kids_number.Number_of_Family,\n",
    "       color=color_child)\n",
    "ax.set_title(\"Nombre de nombre d'enfants par famille\", fontsize=15)\n",
    "plt.show()"
   ]
  },
  {
   "cell_type": "markdown",
   "metadata": {},
   "source": [
    "## <u>Question 6:</u> <i>Taille du parent moyen</i>"
   ]
  },
  {
   "cell_type": "code",
   "execution_count": 10,
   "metadata": {},
   "outputs": [
    {
     "data": {
      "text/html": [
       "<div>\n",
       "<table border=\"1\" class=\"dataframe\">\n",
       "  <thead>\n",
       "    <tr style=\"text-align: right;\">\n",
       "      <th></th>\n",
       "      <th>Family</th>\n",
       "      <th>Father</th>\n",
       "      <th>Mother</th>\n",
       "      <th>Gender</th>\n",
       "      <th>Height</th>\n",
       "      <th>Kids</th>\n",
       "      <th>MidParents</th>\n",
       "    </tr>\n",
       "  </thead>\n",
       "  <tbody>\n",
       "    <tr>\n",
       "      <th>0</th>\n",
       "      <td>1</td>\n",
       "      <td>199.0</td>\n",
       "      <td>170.0</td>\n",
       "      <td>M</td>\n",
       "      <td>186.0</td>\n",
       "      <td>4</td>\n",
       "      <td>191.30</td>\n",
       "    </tr>\n",
       "    <tr>\n",
       "      <th>4</th>\n",
       "      <td>2</td>\n",
       "      <td>192.0</td>\n",
       "      <td>169.0</td>\n",
       "      <td>M</td>\n",
       "      <td>187.0</td>\n",
       "      <td>4</td>\n",
       "      <td>187.26</td>\n",
       "    </tr>\n",
       "    <tr>\n",
       "      <th>8</th>\n",
       "      <td>3</td>\n",
       "      <td>190.0</td>\n",
       "      <td>163.0</td>\n",
       "      <td>M</td>\n",
       "      <td>180.0</td>\n",
       "      <td>2</td>\n",
       "      <td>183.02</td>\n",
       "    </tr>\n",
       "  </tbody>\n",
       "</table>\n",
       "</div>"
      ],
      "text/plain": [
       "  Family  Father  Mother Gender  Height  Kids  MidParents\n",
       "0      1   199.0   170.0      M   186.0     4      191.30\n",
       "4      2   192.0   169.0      M   187.0     4      187.26\n",
       "8      3   190.0   163.0      M   180.0     2      183.02"
      ]
     },
     "execution_count": 10,
     "metadata": {},
     "output_type": "execute_result"
    }
   ],
   "source": [
    "df_unique_family[\"MidParents\"] = (df_unique_family.Father + (1.08*df_unique_family.Mother))/2\n",
    "df_unique_family.head(3)"
   ]
  },
  {
   "cell_type": "code",
   "execution_count": 11,
   "metadata": {},
   "outputs": [
    {
     "data": {
      "text/html": [
       "<div>\n",
       "<table border=\"1\" class=\"dataframe\">\n",
       "  <thead>\n",
       "    <tr style=\"text-align: right;\">\n",
       "      <th></th>\n",
       "      <th>Family</th>\n",
       "      <th>Father</th>\n",
       "      <th>Mother</th>\n",
       "      <th>Gender</th>\n",
       "      <th>Height</th>\n",
       "      <th>Kids</th>\n",
       "      <th>MidParents</th>\n",
       "    </tr>\n",
       "  </thead>\n",
       "  <tbody>\n",
       "    <tr>\n",
       "      <th>0</th>\n",
       "      <td>1</td>\n",
       "      <td>199.0</td>\n",
       "      <td>170.0</td>\n",
       "      <td>M</td>\n",
       "      <td>186.0</td>\n",
       "      <td>4</td>\n",
       "      <td>191.30</td>\n",
       "    </tr>\n",
       "    <tr>\n",
       "      <th>1</th>\n",
       "      <td>1</td>\n",
       "      <td>199.0</td>\n",
       "      <td>170.0</td>\n",
       "      <td>F</td>\n",
       "      <td>176.0</td>\n",
       "      <td>4</td>\n",
       "      <td>191.30</td>\n",
       "    </tr>\n",
       "    <tr>\n",
       "      <th>2</th>\n",
       "      <td>1</td>\n",
       "      <td>199.0</td>\n",
       "      <td>170.0</td>\n",
       "      <td>F</td>\n",
       "      <td>175.0</td>\n",
       "      <td>4</td>\n",
       "      <td>191.30</td>\n",
       "    </tr>\n",
       "    <tr>\n",
       "      <th>3</th>\n",
       "      <td>1</td>\n",
       "      <td>199.0</td>\n",
       "      <td>170.0</td>\n",
       "      <td>F</td>\n",
       "      <td>175.0</td>\n",
       "      <td>4</td>\n",
       "      <td>191.30</td>\n",
       "    </tr>\n",
       "    <tr>\n",
       "      <th>4</th>\n",
       "      <td>2</td>\n",
       "      <td>192.0</td>\n",
       "      <td>169.0</td>\n",
       "      <td>M</td>\n",
       "      <td>187.0</td>\n",
       "      <td>4</td>\n",
       "      <td>187.26</td>\n",
       "    </tr>\n",
       "  </tbody>\n",
       "</table>\n",
       "</div>"
      ],
      "text/plain": [
       "  Family  Father  Mother Gender  Height  Kids  MidParents\n",
       "0      1   199.0   170.0      M   186.0     4      191.30\n",
       "1      1   199.0   170.0      F   176.0     4      191.30\n",
       "2      1   199.0   170.0      F   175.0     4      191.30\n",
       "3      1   199.0   170.0      F   175.0     4      191.30\n",
       "4      2   192.0   169.0      M   187.0     4      187.26"
      ]
     },
     "execution_count": 11,
     "metadata": {},
     "output_type": "execute_result"
    }
   ],
   "source": [
    "df_sizes_full = pd.merge(df_sizes, df_unique_family[[\"Family\", \"MidParents\"]], on='Family', how='left')\n",
    "df_sizes_full.head()"
   ]
  },
  {
   "cell_type": "markdown",
   "metadata": {},
   "source": [
    "## <u>Question 7:</u> <i>Estimation des Θ</i>"
   ]
  },
  {
   "cell_type": "code",
   "execution_count": 12,
   "metadata": {},
   "outputs": [
    {
     "data": {
      "image/png": "[encoded data removed]",
      "text/plain": [
       "<matplotlib.figure.Figure at 0x10d15d048>"
      ]
     },
     "metadata": {},
     "output_type": "display_data"
    }
   ],
   "source": [
    "X = df_sizes_full.MidParents\n",
    "y = df_sizes_full.Height\n",
    "\n",
    "# Fit regression model without intercept (with sklearn)\n",
    "skl_linmod_inter = linear_model.LinearRegression(fit_intercept=True, normalize=True)\n",
    "skl_linmod_inter.fit(X.values.reshape(-1, 1), y)\n",
    "\n",
    "fig = plt.figure(figsize=(8, 6))\n",
    "plt.plot(X, y, 'o', label=\"Size-data\", markeredgecolor='k', markeredgewidth=1, color=\"#66ccff\")\n",
    "X_to_predict = np.linspace(160, 195, num=898).reshape(898, 1)\n",
    "plt.plot(X_to_predict, skl_linmod_inter.predict(X_to_predict),\n",
    "         linewidth=3, label=\"OLS-sklearn-with-intercept-normalized\", color=\"#d24dff\")\n",
    "\n",
    "plt.legend(numpoints=1, loc=2)\n",
    "xlabels = 'Taille moyenne des parents'\n",
    "ylabels = 'Taille des enfants'\n",
    "plt.xlabel(xlabels), plt.ylabel(ylabels)\n",
    "plt.title('Taille des enfants en fonction de la taille moyenne des parents', fontsize=16)\n",
    "plt.tight_layout()\n",
    "plt.show()"
   ]
  },
  {
   "cell_type": "code",
   "execution_count": 13,
   "metadata": {},
   "outputs": [
    {
     "name": "stdout",
     "output_type": "stream",
     "text": [
      "Coefficients: \n",
      "Θ0: 58.255916588 \n",
      "Θ1: 0.633093766663\n"
     ]
    }
   ],
   "source": [
    "print('Coefficients:', \n",
    "      '\\nΘ0:', skl_linmod_inter.intercept_, \n",
    "      '\\nΘ1:', skl_linmod_inter.coef_[0])"
   ]
  },
  {
   "cell_type": "code",
   "execution_count": 14,
   "metadata": {},
   "outputs": [
    {
     "name": "stdout",
     "output_type": "stream",
     "text": [
      "Coefficients calculés: \n",
      "Θ0: 58.255916588 \n",
      "Θ1: 0.633093766663\n"
     ]
    }
   ],
   "source": [
    "theta_un_chap = (sum((df_sizes_full.MidParents - df_sizes_full.MidParents.mean()) * \n",
    "                     (df_sizes_full.Height - df_sizes_full.Height.mean())) \n",
    "                 / sum((df_sizes_full.MidParents - df_sizes_full.MidParents.mean())**2))\n",
    "theta_zero_chap = df_sizes_full.Height.mean() - theta_un_chap*df_sizes_full.MidParents.mean()\n",
    "\n",
    "print('Coefficients calculés:', \n",
    "      '\\nΘ0:', theta_zero_chap, \n",
    "      '\\nΘ1:', theta_un_chap)"
   ]
  },
  {
   "cell_type": "code",
   "execution_count": 15,
   "metadata": {},
   "outputs": [
    {
     "name": "stdout",
     "output_type": "stream",
     "text": [
      "Θ0 is close: True\n",
      "Θ1 is close: True\n"
     ]
    }
   ],
   "source": [
    "print(\"Θ0 is close:\", np.isclose(skl_linmod_inter.intercept_, theta_zero_chap))\n",
    "print(\"Θ1 is close:\", np.isclose(skl_linmod_inter.coef_[0], theta_un_chap))"
   ]
  },
  {
   "cell_type": "markdown",
   "metadata": {},
   "source": [
    "## <u>Question 8:</u> <i>Calculer et visualiser les valeurs prédites sur un même graphique</i>"
   ]
  },
  {
   "cell_type": "code",
   "execution_count": 16,
   "metadata": {},
   "outputs": [
    {
     "data": {
      "text/html": [
       "<div>\n",
       "<table border=\"1\" class=\"dataframe\">\n",
       "  <thead>\n",
       "    <tr style=\"text-align: right;\">\n",
       "      <th></th>\n",
       "      <th>Family</th>\n",
       "      <th>Father</th>\n",
       "      <th>Mother</th>\n",
       "      <th>Gender</th>\n",
       "      <th>Height</th>\n",
       "      <th>Kids</th>\n",
       "      <th>MidParents</th>\n",
       "      <th>Height_Pred</th>\n",
       "    </tr>\n",
       "  </thead>\n",
       "  <tbody>\n",
       "    <tr>\n",
       "      <th>0</th>\n",
       "      <td>1</td>\n",
       "      <td>199.0</td>\n",
       "      <td>170.0</td>\n",
       "      <td>M</td>\n",
       "      <td>186.0</td>\n",
       "      <td>4</td>\n",
       "      <td>191.30</td>\n",
       "      <td>179.366754</td>\n",
       "    </tr>\n",
       "    <tr>\n",
       "      <th>1</th>\n",
       "      <td>1</td>\n",
       "      <td>199.0</td>\n",
       "      <td>170.0</td>\n",
       "      <td>F</td>\n",
       "      <td>176.0</td>\n",
       "      <td>4</td>\n",
       "      <td>191.30</td>\n",
       "      <td>179.366754</td>\n",
       "    </tr>\n",
       "    <tr>\n",
       "      <th>2</th>\n",
       "      <td>1</td>\n",
       "      <td>199.0</td>\n",
       "      <td>170.0</td>\n",
       "      <td>F</td>\n",
       "      <td>175.0</td>\n",
       "      <td>4</td>\n",
       "      <td>191.30</td>\n",
       "      <td>179.366754</td>\n",
       "    </tr>\n",
       "    <tr>\n",
       "      <th>3</th>\n",
       "      <td>1</td>\n",
       "      <td>199.0</td>\n",
       "      <td>170.0</td>\n",
       "      <td>F</td>\n",
       "      <td>175.0</td>\n",
       "      <td>4</td>\n",
       "      <td>191.30</td>\n",
       "      <td>179.366754</td>\n",
       "    </tr>\n",
       "    <tr>\n",
       "      <th>4</th>\n",
       "      <td>2</td>\n",
       "      <td>192.0</td>\n",
       "      <td>169.0</td>\n",
       "      <td>M</td>\n",
       "      <td>187.0</td>\n",
       "      <td>4</td>\n",
       "      <td>187.26</td>\n",
       "      <td>176.809055</td>\n",
       "    </tr>\n",
       "  </tbody>\n",
       "</table>\n",
       "</div>"
      ],
      "text/plain": [
       "  Family  Father  Mother Gender  Height  Kids  MidParents  Height_Pred\n",
       "0      1   199.0   170.0      M   186.0     4      191.30   179.366754\n",
       "1      1   199.0   170.0      F   176.0     4      191.30   179.366754\n",
       "2      1   199.0   170.0      F   175.0     4      191.30   179.366754\n",
       "3      1   199.0   170.0      F   175.0     4      191.30   179.366754\n",
       "4      2   192.0   169.0      M   187.0     4      187.26   176.809055"
      ]
     },
     "execution_count": 16,
     "metadata": {},
     "output_type": "execute_result"
    }
   ],
   "source": [
    "df_sizes_full[\"Height_Pred\"] = theta_zero_chap + theta_un_chap*df_sizes_full.MidParents\n",
    "df_sizes_full.head()"
   ]
  },
  {
   "cell_type": "code",
   "execution_count": 17,
   "metadata": {},
   "outputs": [
    {
     "data": {
      "image/png": "[encoded data removed]",
      "text/plain": [
       "<matplotlib.figure.Figure at 0x10dfb3f60>"
      ]
     },
     "metadata": {},
     "output_type": "display_data"
    }
   ],
   "source": [
    "# Visualization #\n",
    "mpl_fig = plt.figure(figsize=(13,6.5))\n",
    "ax = mpl_fig.add_subplot(111)\n",
    "ax.plot(range(0, max(len(df_sizes_full[df_sizes_full.Gender==\"F\"]), len(df_sizes_full[df_sizes_full.Gender==\"M\"]))), \n",
    "        df_sizes_full[df_sizes_full.Gender==\"M\"].Height_Pred.sort_values().tolist(), color_boy_predict,\n",
    "        df_sizes_full[df_sizes_full.Gender==\"M\"].Height.sort_values().tolist(), color_boy, \n",
    "        df_sizes_full[df_sizes_full.Gender==\"F\"].Height_Pred.sort_values().tolist(), color_girl_predict,\n",
    "        df_sizes_full[df_sizes_full.Gender==\"F\"].Height.sort_values().tolist(), color_girl)\n",
    "ax.fill_between(range(0, len(df_sizes_full[df_sizes_full.Gender==\"M\"])),\n",
    "                df_sizes_full[df_sizes_full.Gender==\"M\"].Height_Pred.sort_values().tolist(), \n",
    "                df_sizes_full[df_sizes_full.Gender==\"M\"].Height.sort_values().tolist(), color=color_boy_predict, alpha='0.4')\n",
    "ax.fill_between(range(0, len(df_sizes_full[df_sizes_full.Gender==\"F\"])),\n",
    "                df_sizes_full[df_sizes_full.Gender==\"F\"].Height_Pred.sort_values().tolist(), \n",
    "                df_sizes_full[df_sizes_full.Gender==\"F\"].Height.sort_values().tolist(), color=color_girl_predict, alpha='0.1')\n",
    "ax.set_title('Visualisation des tailles/tailles prédites des enfants Filles/Garçons', fontsize=16)\n",
    "ax.set_ylabel(\"Tailles\")\n",
    "plt.legend([\"Tailles Garçons-prédiction\", \"Tailles Garçons-réel\", \n",
    "            \"Tailles Filles-prédiction\", \"Tailles Filles-réel\"], \n",
    "           loc=\"upper left\")\n",
    "plt.tick_params(axis='x', labelbottom='off')\n",
    "plt.show()"
   ]
  },
  {
   "cell_type": "markdown",
   "metadata": {},
   "source": [
    "## <u>Question 9:</u> <i>Visualiser un estimateur de densité des résidus</i>"
   ]
  },
  {
   "cell_type": "code",
   "execution_count": 18,
   "metadata": {},
   "outputs": [
    {
     "data": {
      "image/png": "[encoded data removed]",
      "text/plain": [
       "<matplotlib.figure.Figure at 0x10dc390b8>"
      ]
     },
     "metadata": {},
     "output_type": "display_data"
    },
    {
     "name": "stdout",
     "output_type": "stream",
     "text": [
      "Hypothèse de normalité ?\n"
     ]
    }
   ],
   "source": [
    "df_sizes_full[\"Residual\"] = df_sizes_full.Height - df_sizes_full.Height_Pred\n",
    "\n",
    "kde_residual = KDEUnivariate(df_sizes_full.Residual.sort_values().tolist())\n",
    "kde_residual.fit(bw=1, kernel='gau')\n",
    "xrange_lim_residual = range(int(min(df_sizes_full.Residual)), int(max(df_sizes_full.Residual)))\n",
    "x_grid_residual = np.linspace(xrange_lim_residual[0], xrange_lim_residual[-1], 100)\n",
    "kde_eval_residual = kde_residual.evaluate(x_grid_residual)\n",
    "\n",
    "fig = plt.figure(figsize=(8, 6))\n",
    "plt.plot(x_grid_residual, kde_eval_residual, color=\"#bf4040\")\n",
    "plt.title(r'Densité des résidus', fontsize=16)\n",
    "plt.ylabel(r'$Fréquence$', fontsize=18)\n",
    "plt.show()\n",
    "print(\"Hypothèse de normalité ?\")"
   ]
  },
  {
   "cell_type": "code",
   "execution_count": 19,
   "metadata": {},
   "outputs": [
    {
     "name": "stdout",
     "output_type": "stream",
     "text": [
      "Proportion garçons: 0.52 \n",
      "Proportion filles: 0.48\n"
     ]
    }
   ],
   "source": [
    "alpha_b = len(df_sizes_full[df_sizes_full.Gender==\"M\"])/len(df_sizes_full)\n",
    "alpha_g = len(df_sizes_full[df_sizes_full.Gender==\"F\"])/len(df_sizes_full)\n",
    "\n",
    "print(\"Proportion garçons:\", round(alpha_b, 2),\n",
    "      \"\\nProportion filles:\", round(alpha_g, 2))"
   ]
  },
  {
   "cell_type": "code",
   "execution_count": 20,
   "metadata": {},
   "outputs": [
    {
     "data": {
      "image/png": "[encoded data removed]",
      "text/plain": [
       "<matplotlib.figure.Figure at 0x10db73f60>"
      ]
     },
     "metadata": {},
     "output_type": "display_data"
    }
   ],
   "source": [
    "kde_residual = KDEUnivariate(df_sizes_full.Residual.sort_values().tolist())\n",
    "kde_residual.fit(bw=1, kernel='gau')\n",
    "xrange_lim_residual = range(int(min(df_sizes_full.Residual)), int(max(df_sizes_full.Residual)))\n",
    "x_grid_residual = np.linspace(xrange_lim_residual[0], xrange_lim_residual[-1], 100)\n",
    "kde_eval_residual = kde_residual.evaluate(x_grid_residual)\n",
    "\n",
    "\n",
    "kde_residual_b = KDEUnivariate((df_sizes_full.Residual[df_sizes_full.Gender==\"M\"]).sort_values().tolist())\n",
    "kde_residual_b.fit(bw=1, kernel='gau')\n",
    "xrange_lim_residual_b = range(int(min(df_sizes_full.Residual[df_sizes_full.Gender==\"M\"])), \n",
    "                              int(max(df_sizes_full.Residual[df_sizes_full.Gender==\"M\"])))\n",
    "x_grid_residual_b = np.linspace(xrange_lim_residual_b[0], xrange_lim_residual_b[-1], 100)\n",
    "kde_eval_residual_b = kde_residual_b.evaluate(x_grid_residual_b)\n",
    "\n",
    "\n",
    "kde_residual_g = KDEUnivariate((df_sizes_full.Residual[df_sizes_full.Gender==\"F\"]).sort_values().tolist())\n",
    "kde_residual_g.fit(bw=1, kernel='gau')\n",
    "xrange_lim_residual_g = range(int(min(df_sizes_full.Residual[df_sizes_full.Gender==\"F\"])), \n",
    "                              int(max(df_sizes_full.Residual[df_sizes_full.Gender==\"F\"])))\n",
    "x_grid_residual_g = np.linspace(xrange_lim_residual_g[0], xrange_lim_residual_g[-1], 100)\n",
    "kde_eval_residual_g = kde_residual_g.evaluate(x_grid_residual_g)\n",
    "\n",
    "\n",
    "fig = plt.figure(figsize=(8, 6))\n",
    "plt.plot(x_grid_residual, kde_eval_residual, color=\"#bf4040\")\n",
    "plt.fill_between(x_grid_residual_b, 0., kde_eval_residual_b*alpha_b, facecolor=\"none\", hatch=\"/\", edgecolor=color_boy)\n",
    "plt.fill_between(x_grid_residual_g, 0., kde_eval_residual_g*alpha_g, facecolor=\"none\", hatch=\"//\", edgecolor=color_girl)\n",
    "plt.title(r'Densité des résidus', fontsize=16)\n",
    "plt.ylabel(r'$Fréquence$', fontsize=18)\n",
    "plt.legend([\"Tous\", \"Garçons\", \"Filles\"])\n",
    "plt.show()"
   ]
  },
  {
   "cell_type": "markdown",
   "metadata": {},
   "source": [
    "## <u>Question 10:</u> <i>Régresser cette fois les xi sur les yi</i>"
   ]
  },
  {
   "cell_type": "code",
   "execution_count": 21,
   "metadata": {},
   "outputs": [
    {
     "name": "stdout",
     "output_type": "stream",
     "text": [
      "a0: 148.437160448\n",
      "a1: 0.161490302931\n"
     ]
    }
   ],
   "source": [
    "alpha_chap_zero = df_sizes_full.MidParents.mean() + ((df_sizes_full.Height.mean()/\n",
    "                                                      df_sizes_full.MidParents.mean()) *\n",
    "                                                     (np.var(df_sizes_full.MidParents)/\n",
    "                                                      np.var(df_sizes_full.Height)) *\n",
    "                                                     (theta_zero_chap - df_sizes_full.Height.mean()))\n",
    "\n",
    "alpha_chap_un = (np.var(df_sizes_full.MidParents)/np.var(df_sizes_full.Height))*theta_un_chap\n",
    "                                          \n",
    "print(\"a0:\", alpha_chap_zero)                                 \n",
    "print(\"a1:\", alpha_chap_un)"
   ]
  },
  {
   "cell_type": "markdown",
   "metadata": {},
   "source": [
    "# Exercice 2\n",
    "## <u>Question 11:</u> <i>Importer les données des voitures</i>"
   ]
  },
  {
   "cell_type": "code",
   "execution_count": 22,
   "metadata": {},
   "outputs": [
    {
     "name": "stdout",
     "output_type": "stream",
     "text": [
      "Taille du data frame avant suppression des valeurs manquantes: 406\n",
      "Taille du data frame après suppression des valeurs manquantes: 392\n",
      "On notera qu'il fallait faire attention aux informations données par la documentation des données.\n",
      "Pas d'indicateur de valeurs manquantes.\n"
     ]
    },
    {
     "data": {
      "text/html": [
       "<div>\n",
       "<table border=\"1\" class=\"dataframe\">\n",
       "  <thead>\n",
       "    <tr style=\"text-align: right;\">\n",
       "      <th></th>\n",
       "      <th>Mpg</th>\n",
       "      <th>Cylinders</th>\n",
       "      <th>Displacement</th>\n",
       "      <th>Horsepower</th>\n",
       "      <th>Weight</th>\n",
       "      <th>Acceleration</th>\n",
       "      <th>Model_Year</th>\n",
       "      <th>Origin</th>\n",
       "      <th>Car_Name</th>\n",
       "    </tr>\n",
       "  </thead>\n",
       "  <tbody>\n",
       "    <tr>\n",
       "      <th>0</th>\n",
       "      <td>18.0</td>\n",
       "      <td>8.0</td>\n",
       "      <td>307.0</td>\n",
       "      <td>130.0</td>\n",
       "      <td>3504.0</td>\n",
       "      <td>12.0</td>\n",
       "      <td>70.0</td>\n",
       "      <td>1.0</td>\n",
       "      <td>chevrolet chevelle malibu</td>\n",
       "    </tr>\n",
       "    <tr>\n",
       "      <th>1</th>\n",
       "      <td>15.0</td>\n",
       "      <td>8.0</td>\n",
       "      <td>350.0</td>\n",
       "      <td>165.0</td>\n",
       "      <td>3693.0</td>\n",
       "      <td>11.5</td>\n",
       "      <td>70.0</td>\n",
       "      <td>1.0</td>\n",
       "      <td>buick skylark 320</td>\n",
       "    </tr>\n",
       "    <tr>\n",
       "      <th>2</th>\n",
       "      <td>18.0</td>\n",
       "      <td>8.0</td>\n",
       "      <td>318.0</td>\n",
       "      <td>150.0</td>\n",
       "      <td>3436.0</td>\n",
       "      <td>11.0</td>\n",
       "      <td>70.0</td>\n",
       "      <td>1.0</td>\n",
       "      <td>plymouth satellite</td>\n",
       "    </tr>\n",
       "    <tr>\n",
       "      <th>3</th>\n",
       "      <td>16.0</td>\n",
       "      <td>8.0</td>\n",
       "      <td>304.0</td>\n",
       "      <td>150.0</td>\n",
       "      <td>3433.0</td>\n",
       "      <td>12.0</td>\n",
       "      <td>70.0</td>\n",
       "      <td>1.0</td>\n",
       "      <td>amc rebel sst</td>\n",
       "    </tr>\n",
       "    <tr>\n",
       "      <th>4</th>\n",
       "      <td>17.0</td>\n",
       "      <td>8.0</td>\n",
       "      <td>302.0</td>\n",
       "      <td>140.0</td>\n",
       "      <td>3449.0</td>\n",
       "      <td>10.5</td>\n",
       "      <td>70.0</td>\n",
       "      <td>1.0</td>\n",
       "      <td>ford torino</td>\n",
       "    </tr>\n",
       "  </tbody>\n",
       "</table>\n",
       "</div>"
      ],
      "text/plain": [
       "    Mpg  Cylinders  Displacement  Horsepower  Weight  Acceleration  \\\n",
       "0  18.0        8.0         307.0       130.0  3504.0          12.0   \n",
       "1  15.0        8.0         350.0       165.0  3693.0          11.5   \n",
       "2  18.0        8.0         318.0       150.0  3436.0          11.0   \n",
       "3  16.0        8.0         304.0       150.0  3433.0          12.0   \n",
       "4  17.0        8.0         302.0       140.0  3449.0          10.5   \n",
       "\n",
       "   Model_Year  Origin                   Car_Name  \n",
       "0        70.0     1.0  chevrolet chevelle malibu  \n",
       "1        70.0     1.0          buick skylark 320  \n",
       "2        70.0     1.0         plymouth satellite  \n",
       "3        70.0     1.0              amc rebel sst  \n",
       "4        70.0     1.0                ford torino  "
      ]
     },
     "execution_count": 22,
     "metadata": {},
     "output_type": "execute_result"
    }
   ],
   "source": [
    "columns_names=[\"Mpg\", \"Cylinders\", \"Displacement\", \"Horsepower\", \"Weight\", \n",
    "               \"Acceleration\", \"Model_Year\", \"Origin\", \"Car_Name\"]\n",
    "\n",
    "df_cars = pd.read_csv(\"https://archive.ics.uci.edu/ml/machine-learning-databases/auto-mpg/auto-mpg.data-original\", \n",
    "                      sep=\"\\s+\", names=columns_names)\n",
    "\n",
    "print(\"Taille du data frame avant suppression des valeurs manquantes:\", len(df_cars))\n",
    "df_cars = df_cars.dropna()\n",
    "print(\"Taille du data frame après suppression des valeurs manquantes:\", len(df_cars))\n",
    "print(\"On notera qu'il fallait faire attention aux informations données par la documentation des données.\")\n",
    "print(\"Pas d'indicateur de valeurs manquantes.\")\n",
    "df_cars.head()"
   ]
  },
  {
   "cell_type": "markdown",
   "metadata": {},
   "source": [
    "## <u>Question 12:</u> <i>Calculer l'estimateur des moindres carrés Θ et la prédiction de y sur les 9 premières données</i>"
   ]
  },
  {
   "cell_type": "code",
   "execution_count": 23,
   "metadata": {},
   "outputs": [
    {
     "name": "stdout",
     "output_type": "stream",
     "text": [
      "Cylinders : 0.0\n",
      "Displacement : 0.0540884756683\n",
      "Horsepower : -0.094530596162\n",
      "Weight : -0.00424073670631\n",
      "Acceleration : -0.199367012686\n",
      "Model_Year : 0.0\n",
      "\n",
      "Estimations: [ 17.83593432  16.15135218  17.02803274  16.08414928  17.15247702\n",
      "  14.85588522  14.27266143  14.2658702   13.35363761]\n",
      "\n",
      "› Cylinders et Model_Year sont nulles (normal car sur les 9 premières lignes elles ont toujours la même valeur)\n"
     ]
    }
   ],
   "source": [
    "X_sample = df_cars[[\"Cylinders\", \"Displacement\", \"Horsepower\", \"Weight\", \"Acceleration\", \"Model_Year\"]][:9]\n",
    "y_sample = df_cars.Mpg[:9]\n",
    "\n",
    "skl_linmod_inter = linear_model.LinearRegression(fit_intercept=True)\n",
    "skl_linmod_inter.fit(X_sample, y_sample)\n",
    "y_sample_pred = skl_linmod_inter.predict(X_sample)\n",
    "\n",
    "for theta, name in zip(skl_linmod_inter.coef_, X_sample.columns.tolist()):\n",
    "    print(name, \":\", theta)\n",
    "\n",
    "print()\n",
    "print(\"Estimations:\", y_sample_pred)\n",
    "print(\"\\n› Cylinders et Model_Year sont nulles (normal car sur les 9 premières lignes elles ont toujours la même valeur)\")"
   ]
  },
  {
   "cell_type": "markdown",
   "metadata": {},
   "source": [
    "## <u>Question 13:</u> <i>Calculer l'estimateur des moindres carrés Θ et la prédiction de y sur toutes les données</i>"
   ]
  },
  {
   "cell_type": "code",
   "execution_count": 24,
   "metadata": {},
   "outputs": [
    {
     "name": "stdout",
     "output_type": "stream",
     "text": [
      "Cylinders : -0.561949960954\n",
      "Displacement : 0.802476155407\n",
      "Horsepower : -0.0150445037695\n",
      "Weight : -5.76399971331\n",
      "Acceleration : 0.234957036623\n",
      "Model_Year : 2.77166414653\n",
      "\n",
      "Les 2 variables les plus explicatives sont les variables aux plus forts coefficients en valeur absolue:\n",
      " ['Weight', 'Model_Year']\n"
     ]
    }
   ],
   "source": [
    "class Linmod_Spec:\n",
    "    X = None;\n",
    "    y_pred = None;\n",
    "    skl_linmod = None;\n",
    "    \n",
    "    def __init__(self, X, y, intercept=True):\n",
    "        self.X = X\n",
    "        self.skl_linmod = linear_model.LinearRegression(fit_intercept=intercept)\n",
    "        self.skl_linmod.fit(scale(X), y)\n",
    "        self.y_pred = self.skl_linmod.predict(scale(X))\n",
    "        \n",
    "    def display_most_explanatory_values(self, n):\n",
    "        dic_coef = {}\n",
    "        for theta, name in zip(self.skl_linmod.coef_, self.X.columns.tolist()):\n",
    "            dic_coef[name] = theta\n",
    "            print(name, \":\", theta)\n",
    "        print()\n",
    "        print(\"Les \" + str(n) + \" variables les plus explicatives sont les variables aux plus forts coefficients en valeur absolue:\\n\",\n",
    "                sorted(dic_coef, key=lambda dict_key: abs(dic_coef[dict_key]), reverse=True)[:n])\n",
    "        \n",
    "    def get_X_rescaled(self):\n",
    "        return scale(self.X)\n",
    "    \n",
    "    def get_y_pred(self):\n",
    "        return self.y_pred\n",
    "    \n",
    "    def get_prediction(self, to_predict_rescale):\n",
    "        return self.skl_linmod.predict(to_predict_rescale)\n",
    "## END CLASS ##\n",
    "\n",
    "X = df_cars[[\"Cylinders\", \"Displacement\", \"Horsepower\", \"Weight\", \"Acceleration\", \"Model_Year\"]]\n",
    "y = df_cars.Mpg\n",
    "\n",
    "Linmod_q13 = Linmod_Spec(X, y, intercept=True)\n",
    "y_pred = Linmod_q13.get_y_pred()\n",
    "Linmod_q13.display_most_explanatory_values(2)"
   ]
  },
  {
   "cell_type": "markdown",
   "metadata": {},
   "source": [
    "## <u>Question 14:</u> <i>Calculer la valeur du résidu au carré</i>"
   ]
  },
  {
   "cell_type": "code",
   "execution_count": 25,
   "metadata": {},
   "outputs": [
    {
     "name": "stdout",
     "output_type": "stream",
     "text": [
      "23818.9934694\n",
      "23818.9934694\n"
     ]
    }
   ],
   "source": [
    "r = y_pred - y\n",
    "r_square = r**2\n",
    "r_square_divided = r_square / (len(X)-len(X.columns))\n",
    "print(sum((y - y.mean())**2))\n",
    "print(sum(((y_pred - y.mean())**2)+r_square))"
   ]
  },
  {
   "cell_type": "markdown",
   "metadata": {},
   "source": [
    "## <u>Question 15:</u> <i>Prédire la consommation</i>"
   ]
  },
  {
   "cell_type": "code",
   "execution_count": 26,
   "metadata": {},
   "outputs": [
    {
     "data": {
      "text/plain": [
       "Cylinders       0.309967\n",
       "Displacement    0.292679\n",
       "Horsepower     -0.116263\n",
       "Weight          0.301085\n",
       "Acceleration   -0.051292\n",
       "Model_Year      0.005547\n",
       "dtype: float64"
      ]
     },
     "execution_count": 26,
     "metadata": {},
     "output_type": "execute_result"
    }
   ],
   "source": [
    "to_predict = [6, 225, 100, 3233, 15.4, 76]\n",
    "to_predict_rescale = (to_predict - np.mean(X)) / np.std(X)\n",
    "to_predict_rescale"
   ]
  },
  {
   "cell_type": "code",
   "execution_count": 27,
   "metadata": {},
   "outputs": [
    {
     "data": {
      "text/plain": [
       "array([ 21.77622018])"
      ]
     },
     "execution_count": 27,
     "metadata": {},
     "output_type": "execute_result"
    }
   ],
   "source": [
    "specific_pred_mpg = Linmod_q13.get_prediction(to_predict_rescale.values.reshape(1, -1))\n",
    "specific_pred_mpg"
   ]
  },
  {
   "cell_type": "markdown",
   "metadata": {},
   "source": [
    "## <u>Question 16:</u> <i>Variables les plus explicatives via PolynomialFeatures</i>"
   ]
  },
  {
   "cell_type": "code",
   "execution_count": 28,
   "metadata": {},
   "outputs": [
    {
     "data": {
      "text/html": [
       "<div>\n",
       "<table border=\"1\" class=\"dataframe\">\n",
       "  <thead>\n",
       "    <tr style=\"text-align: right;\">\n",
       "      <th></th>\n",
       "      <th>1</th>\n",
       "      <th>Cylinders</th>\n",
       "      <th>Displacement</th>\n",
       "      <th>Horsepower</th>\n",
       "      <th>Weight</th>\n",
       "      <th>Acceleration</th>\n",
       "      <th>Model_Year</th>\n",
       "      <th>Cylinders^2</th>\n",
       "      <th>Cylinders Displacement</th>\n",
       "      <th>Cylinders Horsepower</th>\n",
       "      <th>...</th>\n",
       "      <th>Horsepower^2</th>\n",
       "      <th>Horsepower Weight</th>\n",
       "      <th>Horsepower Acceleration</th>\n",
       "      <th>Horsepower Model_Year</th>\n",
       "      <th>Weight^2</th>\n",
       "      <th>Weight Acceleration</th>\n",
       "      <th>Weight Model_Year</th>\n",
       "      <th>Acceleration^2</th>\n",
       "      <th>Acceleration Model_Year</th>\n",
       "      <th>Model_Year^2</th>\n",
       "    </tr>\n",
       "  </thead>\n",
       "  <tbody>\n",
       "    <tr>\n",
       "      <th>0</th>\n",
       "      <td>1.0</td>\n",
       "      <td>8.0</td>\n",
       "      <td>307.0</td>\n",
       "      <td>130.0</td>\n",
       "      <td>3504.0</td>\n",
       "      <td>12.0</td>\n",
       "      <td>70.0</td>\n",
       "      <td>64.0</td>\n",
       "      <td>2456.0</td>\n",
       "      <td>1040.0</td>\n",
       "      <td>...</td>\n",
       "      <td>16900.0</td>\n",
       "      <td>455520.0</td>\n",
       "      <td>1560.0</td>\n",
       "      <td>9100.0</td>\n",
       "      <td>12278016.0</td>\n",
       "      <td>42048.0</td>\n",
       "      <td>245280.0</td>\n",
       "      <td>144.00</td>\n",
       "      <td>840.0</td>\n",
       "      <td>4900.0</td>\n",
       "    </tr>\n",
       "    <tr>\n",
       "      <th>1</th>\n",
       "      <td>1.0</td>\n",
       "      <td>8.0</td>\n",
       "      <td>350.0</td>\n",
       "      <td>165.0</td>\n",
       "      <td>3693.0</td>\n",
       "      <td>11.5</td>\n",
       "      <td>70.0</td>\n",
       "      <td>64.0</td>\n",
       "      <td>2800.0</td>\n",
       "      <td>1320.0</td>\n",
       "      <td>...</td>\n",
       "      <td>27225.0</td>\n",
       "      <td>609345.0</td>\n",
       "      <td>1897.5</td>\n",
       "      <td>11550.0</td>\n",
       "      <td>13638249.0</td>\n",
       "      <td>42469.5</td>\n",
       "      <td>258510.0</td>\n",
       "      <td>132.25</td>\n",
       "      <td>805.0</td>\n",
       "      <td>4900.0</td>\n",
       "    </tr>\n",
       "    <tr>\n",
       "      <th>2</th>\n",
       "      <td>1.0</td>\n",
       "      <td>8.0</td>\n",
       "      <td>318.0</td>\n",
       "      <td>150.0</td>\n",
       "      <td>3436.0</td>\n",
       "      <td>11.0</td>\n",
       "      <td>70.0</td>\n",
       "      <td>64.0</td>\n",
       "      <td>2544.0</td>\n",
       "      <td>1200.0</td>\n",
       "      <td>...</td>\n",
       "      <td>22500.0</td>\n",
       "      <td>515400.0</td>\n",
       "      <td>1650.0</td>\n",
       "      <td>10500.0</td>\n",
       "      <td>11806096.0</td>\n",
       "      <td>37796.0</td>\n",
       "      <td>240520.0</td>\n",
       "      <td>121.00</td>\n",
       "      <td>770.0</td>\n",
       "      <td>4900.0</td>\n",
       "    </tr>\n",
       "    <tr>\n",
       "      <th>3</th>\n",
       "      <td>1.0</td>\n",
       "      <td>8.0</td>\n",
       "      <td>304.0</td>\n",
       "      <td>150.0</td>\n",
       "      <td>3433.0</td>\n",
       "      <td>12.0</td>\n",
       "      <td>70.0</td>\n",
       "      <td>64.0</td>\n",
       "      <td>2432.0</td>\n",
       "      <td>1200.0</td>\n",
       "      <td>...</td>\n",
       "      <td>22500.0</td>\n",
       "      <td>514950.0</td>\n",
       "      <td>1800.0</td>\n",
       "      <td>10500.0</td>\n",
       "      <td>11785489.0</td>\n",
       "      <td>41196.0</td>\n",
       "      <td>240310.0</td>\n",
       "      <td>144.00</td>\n",
       "      <td>840.0</td>\n",
       "      <td>4900.0</td>\n",
       "    </tr>\n",
       "    <tr>\n",
       "      <th>4</th>\n",
       "      <td>1.0</td>\n",
       "      <td>8.0</td>\n",
       "      <td>302.0</td>\n",
       "      <td>140.0</td>\n",
       "      <td>3449.0</td>\n",
       "      <td>10.5</td>\n",
       "      <td>70.0</td>\n",
       "      <td>64.0</td>\n",
       "      <td>2416.0</td>\n",
       "      <td>1120.0</td>\n",
       "      <td>...</td>\n",
       "      <td>19600.0</td>\n",
       "      <td>482860.0</td>\n",
       "      <td>1470.0</td>\n",
       "      <td>9800.0</td>\n",
       "      <td>11895601.0</td>\n",
       "      <td>36214.5</td>\n",
       "      <td>241430.0</td>\n",
       "      <td>110.25</td>\n",
       "      <td>735.0</td>\n",
       "      <td>4900.0</td>\n",
       "    </tr>\n",
       "  </tbody>\n",
       "</table>\n",
       "<p>5 rows × 28 columns</p>\n",
       "</div>"
      ],
      "text/plain": [
       "     1  Cylinders  Displacement  Horsepower  Weight  Acceleration  Model_Year  \\\n",
       "0  1.0        8.0         307.0       130.0  3504.0          12.0        70.0   \n",
       "1  1.0        8.0         350.0       165.0  3693.0          11.5        70.0   \n",
       "2  1.0        8.0         318.0       150.0  3436.0          11.0        70.0   \n",
       "3  1.0        8.0         304.0       150.0  3433.0          12.0        70.0   \n",
       "4  1.0        8.0         302.0       140.0  3449.0          10.5        70.0   \n",
       "\n",
       "   Cylinders^2  Cylinders Displacement  Cylinders Horsepower      ...       \\\n",
       "0         64.0                  2456.0                1040.0      ...        \n",
       "1         64.0                  2800.0                1320.0      ...        \n",
       "2         64.0                  2544.0                1200.0      ...        \n",
       "3         64.0                  2432.0                1200.0      ...        \n",
       "4         64.0                  2416.0                1120.0      ...        \n",
       "\n",
       "   Horsepower^2  Horsepower Weight  Horsepower Acceleration  \\\n",
       "0       16900.0           455520.0                   1560.0   \n",
       "1       27225.0           609345.0                   1897.5   \n",
       "2       22500.0           515400.0                   1650.0   \n",
       "3       22500.0           514950.0                   1800.0   \n",
       "4       19600.0           482860.0                   1470.0   \n",
       "\n",
       "   Horsepower Model_Year    Weight^2  Weight Acceleration  Weight Model_Year  \\\n",
       "0                 9100.0  12278016.0              42048.0           245280.0   \n",
       "1                11550.0  13638249.0              42469.5           258510.0   \n",
       "2                10500.0  11806096.0              37796.0           240520.0   \n",
       "3                10500.0  11785489.0              41196.0           240310.0   \n",
       "4                 9800.0  11895601.0              36214.5           241430.0   \n",
       "\n",
       "   Acceleration^2  Acceleration Model_Year  Model_Year^2  \n",
       "0          144.00                    840.0        4900.0  \n",
       "1          132.25                    805.0        4900.0  \n",
       "2          121.00                    770.0        4900.0  \n",
       "3          144.00                    840.0        4900.0  \n",
       "4          110.25                    735.0        4900.0  \n",
       "\n",
       "[5 rows x 28 columns]"
      ]
     },
     "execution_count": 28,
     "metadata": {},
     "output_type": "execute_result"
    }
   ],
   "source": [
    "poly = PolynomialFeatures(2, interaction_only=False, include_bias=True)\n",
    "X_poly = pd.DataFrame(poly.fit_transform(X, y), columns=poly.get_feature_names(X.columns.tolist()))\n",
    "X_poly.head()"
   ]
  },
  {
   "cell_type": "code",
   "execution_count": 29,
   "metadata": {},
   "outputs": [
    {
     "name": "stdout",
     "output_type": "stream",
     "text": [
      "1 : 0.0\n",
      "Cylinders : 13.3435753601\n",
      "Displacement : -48.4339134142\n",
      "Horsepower : 5.15417707108\n",
      "Weight : 17.4709166661\n",
      "Acceleration : -16.0507252845\n",
      "Model_Year : -26.881048214\n",
      "Cylinders^2 : -8.13486672673\n",
      "Cylinders Displacement : -2.94736774335\n",
      "Cylinders Horsepower : 11.9517421828\n",
      "Cylinders Weight : 5.33737454853\n",
      "Cylinders Acceleration : 4.87668633933\n",
      "Cylinders Model_Year : -16.2292812842\n",
      "Displacement^2 : 1.29969118081\n",
      "Displacement Horsepower : 3.38005168496\n",
      "Displacement Weight : 5.204741301\n",
      "Displacement Acceleration : -3.29326442826\n",
      "Displacement Model_Year : 43.6843143243\n",
      "Horsepower^2 : -3.59171564879\n",
      "Horsepower Weight : -6.15116573498\n",
      "Horsepower Acceleration : -2.38675584655\n",
      "Horsepower Model_Year : -4.85057027224\n",
      "Weight^2 : 3.1582299655\n",
      "Weight Acceleration : 0.849189126384\n",
      "Weight Model_Year : -25.1160626903\n",
      "Acceleration^2 : 1.99403566814\n",
      "Acceleration Model_Year : 13.9136130186\n",
      "Model_Year^2 : 29.8485113499\n",
      "\n",
      "Les 2 variables les plus explicatives sont les variables aux plus forts coefficients en valeur absolue:\n",
      " ['Displacement', 'Displacement Model_Year']\n"
     ]
    }
   ],
   "source": [
    "Linmod_q16 = Linmod_Spec(X_poly, y, intercept=True)\n",
    "Linmod_q16.display_most_explanatory_values(2)"
   ]
  },
  {
   "cell_type": "markdown",
   "metadata": {},
   "source": [
    "## <u>Question 17:</u> <i>Gérer la variable 'origin'</i>"
   ]
  },
  {
   "cell_type": "code",
   "execution_count": 30,
   "metadata": {},
   "outputs": [
    {
     "data": {
      "text/html": [
       "<div>\n",
       "<table border=\"1\" class=\"dataframe\">\n",
       "  <thead>\n",
       "    <tr style=\"text-align: right;\">\n",
       "      <th></th>\n",
       "      <th>Origin_1.0</th>\n",
       "      <th>Origin_2.0</th>\n",
       "      <th>Origin_3.0</th>\n",
       "    </tr>\n",
       "  </thead>\n",
       "  <tbody>\n",
       "    <tr>\n",
       "      <th>0</th>\n",
       "      <td>1</td>\n",
       "      <td>0</td>\n",
       "      <td>0</td>\n",
       "    </tr>\n",
       "    <tr>\n",
       "      <th>1</th>\n",
       "      <td>1</td>\n",
       "      <td>0</td>\n",
       "      <td>0</td>\n",
       "    </tr>\n",
       "    <tr>\n",
       "      <th>2</th>\n",
       "      <td>1</td>\n",
       "      <td>0</td>\n",
       "      <td>0</td>\n",
       "    </tr>\n",
       "    <tr>\n",
       "      <th>3</th>\n",
       "      <td>1</td>\n",
       "      <td>0</td>\n",
       "      <td>0</td>\n",
       "    </tr>\n",
       "    <tr>\n",
       "      <th>4</th>\n",
       "      <td>1</td>\n",
       "      <td>0</td>\n",
       "      <td>0</td>\n",
       "    </tr>\n",
       "  </tbody>\n",
       "</table>\n",
       "</div>"
      ],
      "text/plain": [
       "   Origin_1.0  Origin_2.0  Origin_3.0\n",
       "0           1           0           0\n",
       "1           1           0           0\n",
       "2           1           0           0\n",
       "3           1           0           0\n",
       "4           1           0           0"
      ]
     },
     "execution_count": 30,
     "metadata": {},
     "output_type": "execute_result"
    }
   ],
   "source": [
    "origin_to_add = pd.get_dummies(df_cars.Origin, prefix=\"Origin\")\n",
    "origin_to_add.head()"
   ]
  },
  {
   "cell_type": "code",
   "execution_count": 31,
   "metadata": {},
   "outputs": [
    {
     "data": {
      "text/html": [
       "<div>\n",
       "<table border=\"1\" class=\"dataframe\">\n",
       "  <thead>\n",
       "    <tr style=\"text-align: right;\">\n",
       "      <th></th>\n",
       "      <th>Mpg</th>\n",
       "      <th>Cylinders</th>\n",
       "      <th>Displacement</th>\n",
       "      <th>Horsepower</th>\n",
       "      <th>Weight</th>\n",
       "      <th>Acceleration</th>\n",
       "      <th>Model_Year</th>\n",
       "      <th>Origin</th>\n",
       "      <th>Car_Name</th>\n",
       "      <th>Origin_1.0</th>\n",
       "      <th>Origin_2.0</th>\n",
       "      <th>Origin_3.0</th>\n",
       "    </tr>\n",
       "  </thead>\n",
       "  <tbody>\n",
       "    <tr>\n",
       "      <th>0</th>\n",
       "      <td>18.0</td>\n",
       "      <td>8.0</td>\n",
       "      <td>307.0</td>\n",
       "      <td>130.0</td>\n",
       "      <td>3504.0</td>\n",
       "      <td>12.0</td>\n",
       "      <td>70.0</td>\n",
       "      <td>1.0</td>\n",
       "      <td>chevrolet chevelle malibu</td>\n",
       "      <td>1</td>\n",
       "      <td>0</td>\n",
       "      <td>0</td>\n",
       "    </tr>\n",
       "    <tr>\n",
       "      <th>1</th>\n",
       "      <td>15.0</td>\n",
       "      <td>8.0</td>\n",
       "      <td>350.0</td>\n",
       "      <td>165.0</td>\n",
       "      <td>3693.0</td>\n",
       "      <td>11.5</td>\n",
       "      <td>70.0</td>\n",
       "      <td>1.0</td>\n",
       "      <td>buick skylark 320</td>\n",
       "      <td>1</td>\n",
       "      <td>0</td>\n",
       "      <td>0</td>\n",
       "    </tr>\n",
       "    <tr>\n",
       "      <th>2</th>\n",
       "      <td>18.0</td>\n",
       "      <td>8.0</td>\n",
       "      <td>318.0</td>\n",
       "      <td>150.0</td>\n",
       "      <td>3436.0</td>\n",
       "      <td>11.0</td>\n",
       "      <td>70.0</td>\n",
       "      <td>1.0</td>\n",
       "      <td>plymouth satellite</td>\n",
       "      <td>1</td>\n",
       "      <td>0</td>\n",
       "      <td>0</td>\n",
       "    </tr>\n",
       "    <tr>\n",
       "      <th>3</th>\n",
       "      <td>16.0</td>\n",
       "      <td>8.0</td>\n",
       "      <td>304.0</td>\n",
       "      <td>150.0</td>\n",
       "      <td>3433.0</td>\n",
       "      <td>12.0</td>\n",
       "      <td>70.0</td>\n",
       "      <td>1.0</td>\n",
       "      <td>amc rebel sst</td>\n",
       "      <td>1</td>\n",
       "      <td>0</td>\n",
       "      <td>0</td>\n",
       "    </tr>\n",
       "    <tr>\n",
       "      <th>4</th>\n",
       "      <td>17.0</td>\n",
       "      <td>8.0</td>\n",
       "      <td>302.0</td>\n",
       "      <td>140.0</td>\n",
       "      <td>3449.0</td>\n",
       "      <td>10.5</td>\n",
       "      <td>70.0</td>\n",
       "      <td>1.0</td>\n",
       "      <td>ford torino</td>\n",
       "      <td>1</td>\n",
       "      <td>0</td>\n",
       "      <td>0</td>\n",
       "    </tr>\n",
       "  </tbody>\n",
       "</table>\n",
       "</div>"
      ],
      "text/plain": [
       "    Mpg  Cylinders  Displacement  Horsepower  Weight  Acceleration  \\\n",
       "0  18.0        8.0         307.0       130.0  3504.0          12.0   \n",
       "1  15.0        8.0         350.0       165.0  3693.0          11.5   \n",
       "2  18.0        8.0         318.0       150.0  3436.0          11.0   \n",
       "3  16.0        8.0         304.0       150.0  3433.0          12.0   \n",
       "4  17.0        8.0         302.0       140.0  3449.0          10.5   \n",
       "\n",
       "   Model_Year  Origin                   Car_Name  Origin_1.0  Origin_2.0  \\\n",
       "0        70.0     1.0  chevrolet chevelle malibu           1           0   \n",
       "1        70.0     1.0          buick skylark 320           1           0   \n",
       "2        70.0     1.0         plymouth satellite           1           0   \n",
       "3        70.0     1.0              amc rebel sst           1           0   \n",
       "4        70.0     1.0                ford torino           1           0   \n",
       "\n",
       "   Origin_3.0  \n",
       "0           0  \n",
       "1           0  \n",
       "2           0  \n",
       "3           0  \n",
       "4           0  "
      ]
     },
     "execution_count": 31,
     "metadata": {},
     "output_type": "execute_result"
    }
   ],
   "source": [
    "df_origin = pd.concat([df_cars, origin_to_add], axis=1, join_axes=[df_cars.index])\n",
    "df_origin.head()"
   ]
  },
  {
   "cell_type": "code",
   "execution_count": 32,
   "metadata": {},
   "outputs": [
    {
     "name": "stdout",
     "output_type": "stream",
     "text": [
      "Cylinders : -0.834271968964\n",
      "Displacement : 2.50601873822\n",
      "Horsepower : -0.699009319443\n",
      "Weight : -5.69254263882\n",
      "Acceleration : 0.217955989651\n",
      "Model_Year : 2.85870922689\n",
      "Origin_2.0 : 0.995857119732\n",
      "Origin_3.0 : 1.14455366262\n",
      "\n",
      "Les 8 variables les plus explicatives sont les variables aux plus forts coefficients en valeur absolue:\n",
      " ['Weight', 'Model_Year', 'Displacement', 'Origin_3.0', 'Origin_2.0', 'Cylinders', 'Horsepower', 'Acceleration']\n",
      "Coef voiture Japon (3) > Coef voiture Europe (2)\n"
     ]
    }
   ],
   "source": [
    "X_origin = df_origin.loc[:, (df_origin.columns != 'Mpg')\n",
    "                         & (df_origin.columns != 'Origin')\n",
    "                         & (df_origin.columns != 'Origin_1.0') #On enlève Origin1 pour supprimer les corrélations\n",
    "                         & (df_origin.columns != 'Car_Name')]\n",
    "Linmod_q17a = Linmod_Spec(X_origin, y, intercept=False) #sans constante\n",
    "print(\"On prend pas les valeurs absolues car on cherche les voitures les plus efficaces.\")\n",
    "print(\"Coef voiture Japon (3) > Coef voiture Europe (2)\")"
   ]
  },
  {
   "cell_type": "code",
   "execution_count": 33,
   "metadata": {},
   "outputs": [
    {
     "name": "stdout",
     "output_type": "stream",
     "text": [
      "Cylinders : -0.834271968964\n",
      "Displacement : 2.50601873822\n",
      "Horsepower : -0.699009319443\n",
      "Weight : -5.69254263882\n",
      "Acceleration : 0.217955989651\n",
      "Model_Year : 2.85870922689\n",
      "Origin_1.0 : -1.38131317648\n",
      "Origin_2.0 : -0.0845250459825\n",
      "\n",
      "Les 8 variables les plus explicatives sont les variables aux plus forts coefficients en valeur absolue:\n",
      " ['Weight', 'Model_Year', 'Displacement', 'Origin_1.0', 'Cylinders', 'Horsepower', 'Acceleration', 'Origin_2.0']\n",
      "Coef voiture EU (1) > Coef voiture Europe (2)\n"
     ]
    }
   ],
   "source": [
    "X_origin = df_origin.loc[:, (df_origin.columns != 'Mpg')\n",
    "                         & (df_origin.columns != 'Origin')\n",
    "                         & (df_origin.columns != 'Origin_3.0')\n",
    "                         & (df_origin.columns != 'Car_Name')]\n",
    "Linmod_q17b = Linmod_Spec(X_origin, y, intercept=False) #sans constante\n",
    "print(\"Coef voiture Europe (2) > Coef voiture EU (1)\")"
   ]
  },
  {
   "cell_type": "code",
   "execution_count": 34,
   "metadata": {},
   "outputs": [
    {
     "name": "stdout",
     "output_type": "stream",
     "text": [
      "Coef voiture Japoon (3) > Coef voiture EU (1) > Coef voiture Europe (2)\n",
      "Donc le pays le plus efficace est le Japon.\n"
     ]
    }
   ],
   "source": [
    "print(\"Coef voiture Japoon (3) > Coef voiture EU (1) > Coef voiture Europe (2)\")\n",
    "print(\"Donc le pays le plus efficace est le Japon.\")"
   ]
  },
  {
   "cell_type": "markdown",
   "metadata": {},
   "source": [
    "## <u>Question 18:</u> <i>La variable 'marque' !</i>"
   ]
  },
  {
   "cell_type": "code",
   "execution_count": 35,
   "metadata": {},
   "outputs": [
    {
     "data": {
      "text/plain": [
       "ford             48\n",
       "chevrolet        43\n",
       "plymouth         31\n",
       "dodge            28\n",
       "amc              27\n",
       "toyota           25\n",
       "datsun           23\n",
       "buick            17\n",
       "pontiac          16\n",
       "volkswagen       15\n",
       "honda            13\n",
       "mercury          11\n",
       "mazda            10\n",
       "oldsmobile       10\n",
       "peugeot           8\n",
       "fiat              8\n",
       "audi              7\n",
       "vw                6\n",
       "chrysler          6\n",
       "volvo             6\n",
       "opel              4\n",
       "saab              4\n",
       "subaru            4\n",
       "renault           3\n",
       "chevy             3\n",
       "bmw               2\n",
       "cadillac          2\n",
       "maxda             2\n",
       "mercedes-benz     2\n",
       "chevroelt         1\n",
       "capri             1\n",
       "toyouta           1\n",
       "vokswagen         1\n",
       "mercedes          1\n",
       "nissan            1\n",
       "triumph           1\n",
       "hi                1\n",
       "Name: 0, dtype: int64"
      ]
     },
     "execution_count": 35,
     "metadata": {},
     "output_type": "execute_result"
    }
   ],
   "source": [
    "col_mark = df_origin.Car_Name.str.split(\" \", expand=True)[0]\n",
    "col_mark.value_counts()"
   ]
  },
  {
   "cell_type": "code",
   "execution_count": 36,
   "metadata": {},
   "outputs": [],
   "source": [
    "col_mark = col_mark.replace([\"vokswagen\", \"vw\"], \"volkswagen\")\n",
    "col_mark = col_mark.replace([\"chevroelt\", \"chevy\"], \"chevrolet\")\n",
    "col_mark = col_mark.replace(\"capri\", \"ford\").replace(\"toyouta\", \"toyota\")\n",
    "col_mark = col_mark.replace(\"maxda\", \"mazda\").replace(\"mercedes-benz\", \"mercedes\")"
   ]
  },
  {
   "cell_type": "code",
   "execution_count": 37,
   "metadata": {},
   "outputs": [
    {
     "data": {
      "text/html": [
       "<div>\n",
       "<table border=\"1\" class=\"dataframe\">\n",
       "  <thead>\n",
       "    <tr style=\"text-align: right;\">\n",
       "      <th></th>\n",
       "      <th>Cylinders</th>\n",
       "      <th>Displacement</th>\n",
       "      <th>Horsepower</th>\n",
       "      <th>Weight</th>\n",
       "      <th>Acceleration</th>\n",
       "      <th>Model_Year</th>\n",
       "      <th>amc</th>\n",
       "      <th>audi</th>\n",
       "      <th>bmw</th>\n",
       "      <th>buick</th>\n",
       "      <th>...</th>\n",
       "      <th>peugeot</th>\n",
       "      <th>plymouth</th>\n",
       "      <th>pontiac</th>\n",
       "      <th>renault</th>\n",
       "      <th>saab</th>\n",
       "      <th>subaru</th>\n",
       "      <th>toyota</th>\n",
       "      <th>triumph</th>\n",
       "      <th>volkswagen</th>\n",
       "      <th>volvo</th>\n",
       "    </tr>\n",
       "  </thead>\n",
       "  <tbody>\n",
       "    <tr>\n",
       "      <th>0</th>\n",
       "      <td>8.0</td>\n",
       "      <td>307.0</td>\n",
       "      <td>130.0</td>\n",
       "      <td>3504.0</td>\n",
       "      <td>12.0</td>\n",
       "      <td>70.0</td>\n",
       "      <td>0</td>\n",
       "      <td>0</td>\n",
       "      <td>0</td>\n",
       "      <td>0</td>\n",
       "      <td>...</td>\n",
       "      <td>0</td>\n",
       "      <td>0</td>\n",
       "      <td>0</td>\n",
       "      <td>0</td>\n",
       "      <td>0</td>\n",
       "      <td>0</td>\n",
       "      <td>0</td>\n",
       "      <td>0</td>\n",
       "      <td>0</td>\n",
       "      <td>0</td>\n",
       "    </tr>\n",
       "    <tr>\n",
       "      <th>1</th>\n",
       "      <td>8.0</td>\n",
       "      <td>350.0</td>\n",
       "      <td>165.0</td>\n",
       "      <td>3693.0</td>\n",
       "      <td>11.5</td>\n",
       "      <td>70.0</td>\n",
       "      <td>0</td>\n",
       "      <td>0</td>\n",
       "      <td>0</td>\n",
       "      <td>1</td>\n",
       "      <td>...</td>\n",
       "      <td>0</td>\n",
       "      <td>0</td>\n",
       "      <td>0</td>\n",
       "      <td>0</td>\n",
       "      <td>0</td>\n",
       "      <td>0</td>\n",
       "      <td>0</td>\n",
       "      <td>0</td>\n",
       "      <td>0</td>\n",
       "      <td>0</td>\n",
       "    </tr>\n",
       "    <tr>\n",
       "      <th>2</th>\n",
       "      <td>8.0</td>\n",
       "      <td>318.0</td>\n",
       "      <td>150.0</td>\n",
       "      <td>3436.0</td>\n",
       "      <td>11.0</td>\n",
       "      <td>70.0</td>\n",
       "      <td>0</td>\n",
       "      <td>0</td>\n",
       "      <td>0</td>\n",
       "      <td>0</td>\n",
       "      <td>...</td>\n",
       "      <td>0</td>\n",
       "      <td>1</td>\n",
       "      <td>0</td>\n",
       "      <td>0</td>\n",
       "      <td>0</td>\n",
       "      <td>0</td>\n",
       "      <td>0</td>\n",
       "      <td>0</td>\n",
       "      <td>0</td>\n",
       "      <td>0</td>\n",
       "    </tr>\n",
       "    <tr>\n",
       "      <th>3</th>\n",
       "      <td>8.0</td>\n",
       "      <td>304.0</td>\n",
       "      <td>150.0</td>\n",
       "      <td>3433.0</td>\n",
       "      <td>12.0</td>\n",
       "      <td>70.0</td>\n",
       "      <td>1</td>\n",
       "      <td>0</td>\n",
       "      <td>0</td>\n",
       "      <td>0</td>\n",
       "      <td>...</td>\n",
       "      <td>0</td>\n",
       "      <td>0</td>\n",
       "      <td>0</td>\n",
       "      <td>0</td>\n",
       "      <td>0</td>\n",
       "      <td>0</td>\n",
       "      <td>0</td>\n",
       "      <td>0</td>\n",
       "      <td>0</td>\n",
       "      <td>0</td>\n",
       "    </tr>\n",
       "    <tr>\n",
       "      <th>4</th>\n",
       "      <td>8.0</td>\n",
       "      <td>302.0</td>\n",
       "      <td>140.0</td>\n",
       "      <td>3449.0</td>\n",
       "      <td>10.5</td>\n",
       "      <td>70.0</td>\n",
       "      <td>0</td>\n",
       "      <td>0</td>\n",
       "      <td>0</td>\n",
       "      <td>0</td>\n",
       "      <td>...</td>\n",
       "      <td>0</td>\n",
       "      <td>0</td>\n",
       "      <td>0</td>\n",
       "      <td>0</td>\n",
       "      <td>0</td>\n",
       "      <td>0</td>\n",
       "      <td>0</td>\n",
       "      <td>0</td>\n",
       "      <td>0</td>\n",
       "      <td>0</td>\n",
       "    </tr>\n",
       "  </tbody>\n",
       "</table>\n",
       "<p>5 rows × 34 columns</p>\n",
       "</div>"
      ],
      "text/plain": [
       "   Cylinders  Displacement  Horsepower  Weight  Acceleration  Model_Year  amc  \\\n",
       "0        8.0         307.0       130.0  3504.0          12.0        70.0    0   \n",
       "1        8.0         350.0       165.0  3693.0          11.5        70.0    0   \n",
       "2        8.0         318.0       150.0  3436.0          11.0        70.0    0   \n",
       "3        8.0         304.0       150.0  3433.0          12.0        70.0    1   \n",
       "4        8.0         302.0       140.0  3449.0          10.5        70.0    0   \n",
       "\n",
       "   audi  bmw  buick  ...    peugeot  plymouth  pontiac  renault  saab  subaru  \\\n",
       "0     0    0      0  ...          0         0        0        0     0       0   \n",
       "1     0    0      1  ...          0         0        0        0     0       0   \n",
       "2     0    0      0  ...          0         1        0        0     0       0   \n",
       "3     0    0      0  ...          0         0        0        0     0       0   \n",
       "4     0    0      0  ...          0         0        0        0     0       0   \n",
       "\n",
       "   toyota  triumph  volkswagen  volvo  \n",
       "0       0        0           0      0  \n",
       "1       0        0           0      0  \n",
       "2       0        0           0      0  \n",
       "3       0        0           0      0  \n",
       "4       0        0           0      0  \n",
       "\n",
       "[5 rows x 34 columns]"
      ]
     },
     "execution_count": 37,
     "metadata": {},
     "output_type": "execute_result"
    }
   ],
   "source": [
    "mark_to_add = pd.get_dummies(col_mark)\n",
    "df_mark = pd.concat([df_cars, mark_to_add], axis=1, join_axes=[df_cars.index])\n",
    "X_mark = df_mark.loc[:, (df_mark.columns != 'Mpg')\n",
    "                     & (df_mark.columns != 'Origin') \n",
    "                     & (df_mark.columns != 'Car_Name')\n",
    "                     & (df_mark.columns != 'hi')] # On enlève une marque (difficilement répertoriable) pour éviter les corrélations\n",
    "X_mark.head()"
   ]
  },
  {
   "cell_type": "code",
   "execution_count": 38,
   "metadata": {},
   "outputs": [
    {
     "name": "stdout",
     "output_type": "stream",
     "text": [
      "Cylinders : -1.07039182006\n",
      "Displacement : 2.64850842239\n",
      "Horsepower : -0.945098339524\n",
      "Weight : -5.41068187783\n",
      "Acceleration : 0.120541301482\n",
      "Model_Year : 2.75212213374\n",
      "amc : -1.1654757845\n",
      "audi : -0.0534763670196\n",
      "bmw : -0.160799055254\n",
      "buick : -0.67426603022\n",
      "cadillac : -0.0451442735548\n",
      "chevrolet : -1.05450601097\n",
      "chrysler : -0.550008364846\n",
      "datsun : 0.291259807435\n",
      "dodge : -0.632060682991\n",
      "fiat : 0.0368892000996\n",
      "ford : -1.2715770191\n",
      "honda : 0.102102661208\n",
      "mazda : -0.238650458436\n",
      "mercedes : 0.0071208528546\n",
      "mercury : -0.684437017208\n",
      "nissan : 0.0687065322363\n",
      "oldsmobile : -0.331903342528\n",
      "opel : -0.226606179113\n",
      "peugeot : -0.125669152679\n",
      "plymouth : -0.486617041653\n",
      "pontiac : -0.338723099397\n",
      "renault : -0.0132122628966\n",
      "saab : -0.122920178211\n",
      "subaru : -0.116198466872\n",
      "toyota : -0.274401141892\n",
      "triumph : 0.199240359249\n",
      "volkswagen : 0.0777097136137\n",
      "volvo : -0.357835166437\n",
      "\n",
      "Les 15 variables les plus explicatives sont les variables aux plus forts coefficients en valeur absolue:\n",
      " ['Weight', 'Model_Year', 'Displacement', 'ford', 'amc', 'Cylinders', 'chevrolet', 'Horsepower', 'mercury', 'buick', 'dodge', 'chrysler', 'plymouth', 'volvo', 'pontiac']\n"
     ]
    }
   ],
   "source": [
    "Linmod_q18 = Linmod_Spec(X_mark, y, intercept=False) #sans constante\n",
    "Linmod_q18.display_most_explanatory_values(15)"
   ]
  },
  {
   "cell_type": "markdown",
   "metadata": {},
   "source": [
    "## <u>Question 19:</u> <i>Un peu de SVD</i>"
   ]
  },
  {
   "cell_type": "code",
   "execution_count": 39,
   "metadata": {},
   "outputs": [
    {
     "data": {
      "text/plain": [
       "array([[ 0.02065728,  0.01124934,  0.01724967, ..., -0.00234259,\n",
       "        -0.01357084, -0.01591018],\n",
       "       [ 0.01124934,  0.01554721,  0.01511478, ..., -0.00476984,\n",
       "        -0.00911333, -0.00992747],\n",
       "       [ 0.01724967,  0.01511478,  0.01870652, ..., -0.00298068,\n",
       "        -0.01229243, -0.01401521],\n",
       "       ..., \n",
       "       [-0.00234259, -0.00476984, -0.00298068, ...,  0.02611329,\n",
       "         0.00243562, -0.00088317],\n",
       "       [-0.01357084, -0.00911333, -0.01229243, ...,  0.00243562,\n",
       "         0.0105426 ,  0.01196426],\n",
       "       [-0.01591018, -0.00992747, -0.01401521, ..., -0.00088317,\n",
       "         0.01196426,  0.01421935]])"
      ]
     },
     "execution_count": 39,
     "metadata": {},
     "output_type": "execute_result"
    }
   ],
   "source": [
    "X_scaled = scale(X)\n",
    "U, s, V = np.linalg.svd(X_scaled, full_matrices=False)\n",
    "H = U.dot(np.transpose(U))\n",
    "H"
   ]
  },
  {
   "cell_type": "code",
   "execution_count": 40,
   "metadata": {},
   "outputs": [
    {
     "data": {
      "text/plain": [
       "array([ True], dtype=bool)"
      ]
     },
     "execution_count": 40,
     "metadata": {},
     "output_type": "execute_result"
    }
   ],
   "source": [
    "np.unique(np.isclose(np.dot(H,H), np.transpose(H)))"
   ]
  },
  {
   "cell_type": "code",
   "execution_count": 41,
   "metadata": {},
   "outputs": [
    {
     "data": {
      "text/plain": [
       "array([ True], dtype=bool)"
      ]
     },
     "execution_count": 41,
     "metadata": {},
     "output_type": "execute_result"
    }
   ],
   "source": [
    "# Ou encore\n",
    "np.unique(np.isclose(\n",
    "    X_scaled.dot(inv((np.transpose(X_scaled)).dot(X_scaled))).dot(np.transpose(X_scaled)),\n",
    "    H))"
   ]
  },
  {
   "cell_type": "code",
   "execution_count": 42,
   "metadata": {},
   "outputs": [
    {
     "name": "stdout",
     "output_type": "stream",
     "text": [
      "C'est vérifié !\n"
     ]
    }
   ],
   "source": [
    "print(\"C'est vérifié !\")"
   ]
  },
  {
   "cell_type": "markdown",
   "metadata": {},
   "source": [
    "## <u>Question 20:</u> <i>Vecteur des leviers</i>"
   ]
  },
  {
   "cell_type": "code",
   "execution_count": 46,
   "metadata": {},
   "outputs": [
    {
     "data": {
      "text/html": [
       "<div>\n",
       "<table border=\"1\" class=\"dataframe\">\n",
       "  <thead>\n",
       "    <tr style=\"text-align: right;\">\n",
       "      <th></th>\n",
       "      <th>Mpg</th>\n",
       "      <th>Cylinders</th>\n",
       "      <th>Displacement</th>\n",
       "      <th>Horsepower</th>\n",
       "      <th>Weight</th>\n",
       "      <th>Acceleration</th>\n",
       "      <th>Model_Year</th>\n",
       "      <th>Origin</th>\n",
       "      <th>Car_Name</th>\n",
       "      <th>Leviers</th>\n",
       "    </tr>\n",
       "  </thead>\n",
       "  <tbody>\n",
       "    <tr>\n",
       "      <th>19</th>\n",
       "      <td>14.0</td>\n",
       "      <td>8.0</td>\n",
       "      <td>455.0</td>\n",
       "      <td>225.0</td>\n",
       "      <td>3086.0</td>\n",
       "      <td>10.0</td>\n",
       "      <td>70.0</td>\n",
       "      <td>1.0</td>\n",
       "      <td>buick estate wagon (sw)</td>\n",
       "      <td>0.187359</td>\n",
       "    </tr>\n",
       "    <tr>\n",
       "      <th>34</th>\n",
       "      <td>9.0</td>\n",
       "      <td>8.0</td>\n",
       "      <td>304.0</td>\n",
       "      <td>193.0</td>\n",
       "      <td>4732.0</td>\n",
       "      <td>18.5</td>\n",
       "      <td>70.0</td>\n",
       "      <td>1.0</td>\n",
       "      <td>hi 1200d</td>\n",
       "      <td>0.084799</td>\n",
       "    </tr>\n",
       "    <tr>\n",
       "      <th>32</th>\n",
       "      <td>10.0</td>\n",
       "      <td>8.0</td>\n",
       "      <td>307.0</td>\n",
       "      <td>200.0</td>\n",
       "      <td>4376.0</td>\n",
       "      <td>15.0</td>\n",
       "      <td>70.0</td>\n",
       "      <td>1.0</td>\n",
       "      <td>chevy c20</td>\n",
       "      <td>0.061549</td>\n",
       "    </tr>\n",
       "  </tbody>\n",
       "</table>\n",
       "</div>"
      ],
      "text/plain": [
       "     Mpg  Cylinders  Displacement  Horsepower  Weight  Acceleration  \\\n",
       "19  14.0        8.0         455.0       225.0  3086.0          10.0   \n",
       "34   9.0        8.0         304.0       193.0  4732.0          18.5   \n",
       "32  10.0        8.0         307.0       200.0  4376.0          15.0   \n",
       "\n",
       "    Model_Year  Origin                 Car_Name   Leviers  \n",
       "19        70.0     1.0  buick estate wagon (sw)  0.187359  \n",
       "34        70.0     1.0                 hi 1200d  0.084799  \n",
       "32        70.0     1.0                chevy c20  0.061549  "
      ]
     },
     "execution_count": 46,
     "metadata": {},
     "output_type": "execute_result"
    }
   ],
   "source": [
    "leviers = np.diag(H)\n",
    "df_cars[\"Leviers\"] = leviers\n",
    "df_cars.sort_values(by=\"Leviers\", ascending=False).head(3)"
   ]
  },
  {
   "cell_type": "code",
   "execution_count": 44,
   "metadata": {},
   "outputs": [
    {
     "name": "stdout",
     "output_type": "stream",
     "text": [
      "C'est les noms difficilement repertoriables qu'on a déjà du modifier dans df_mark\n"
     ]
    }
   ],
   "source": [
    "print(\"C'est les noms difficilement repertoriables qu'on a déjà du modifier dans df_mark\")"
   ]
  }
 ],
 "metadata": {
  "kernelspec": {
   "display_name": "Py3_Statistics",
   "language": "python",
   "name": "py3_statistics"
  },
  "language_info": {
   "codemirror_mode": {
    "name": "ipython",
    "version": 3
   },
   "file_extension": ".py",
   "mimetype": "text/x-python",
   "name": "python",
   "nbconvert_exporter": "python",
   "pygments_lexer": "ipython3",
   "version": "3.6.2"
  },
  "toc": {
   "nav_menu": {
    "height": "128px",
    "width": "240px"
   },
   "number_sections": true,
   "sideBar": true,
   "skip_h1_title": false,
   "toc_cell": true,
   "toc_position": {
    "height": "593px",
    "left": "0px",
    "right": "1061px",
    "top": "110px",
    "width": "219px"
   },
   "toc_section_display": "block",
   "toc_window_display": true
  }
 },
 "nbformat": 4,
 "nbformat_minor": 2
}
